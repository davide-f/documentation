{
 "cells": [
  {
   "cell_type": "markdown",
   "metadata": {},
   "source": [
    "# Explore the statistics across all scenarios\n",
    "\n",
    "This notebook aims at providing basic tools for exploring the results of the rule `run_all_scenarios`.\n",
    "After loading all files `results/*/stats.csv`, the notebooks explore the content"
   ]
  },
  {
   "cell_type": "markdown",
   "metadata": {},
   "source": [
    "### Load imports"
   ]
  },
  {
   "cell_type": "code",
   "execution_count": null,
   "metadata": {},
   "outputs": [],
   "source": [
    "import xarray as xr\n",
    "import geopandas as gpd\n",
    "import pandas as pd\n",
    "import matplotlib\n",
    "import matplotlib.pyplot as plt\n",
    "import numpy as np\n",
    "import requests\n",
    "import pypsa\n",
    "import shutil\n",
    "from rasterio.plot import show\n",
    "from shapely.wkt import loads\n",
    "from shapely.geometry import Point\n",
    "from shapely.geometry import LineString\n",
    "from pathlib import Path\n",
    "import country_converter as coco\n",
    "\n",
    "\n",
    "# change current directory to parent folder\n",
    "import os\n",
    "import sys\n",
    "\n",
    "if not os.path.isdir(\"pypsa-earth\"):\n",
    "    os.chdir(\"../..\")\n",
    "sys.path.append(os.getcwd()+\"/pypsa-earth/scripts\")\n",
    "\n",
    "from _helpers import read_csv_nafix\n",
    "from _helpers import two_digits_2_name_country, country_name_2_two_digits\n",
    "\n",
    "cc = coco.CountryConverter()"
   ]
  },
  {
   "cell_type": "markdown",
   "metadata": {},
   "source": [
    "## Load all stats.csv files\n",
    "\n",
    "Loads all files in the form of `results/{scenario_name}/stats.csv` and creates a dataframe indexed by `scenario_name`.\n",
    "The merged dataframe is then saved locally."
   ]
  },
  {
   "cell_type": "code",
   "execution_count": null,
   "metadata": {},
   "outputs": [],
   "source": [
    "import pandas as pd\n",
    "\n",
    "df_list = []\n",
    "\n",
    "for scenario in Path(\"pypsa-earth/results\").glob(\"*\"):\n",
    "    if scenario.is_dir():\n",
    "        stats_path = Path.joinpath(scenario, \"stats.csv\")\n",
    "        if stats_path.is_file():\n",
    "            df_temp = read_csv_nafix(str(stats_path), header=[0, 1], index_col=0)\n",
    "            df_temp.index = [str(scenario.name)]\n",
    "            df_list.append(df_temp)\n",
    "        else:\n",
    "            print(\"Missing entry for \" + str(stats_path))\n",
    "\n",
    "stats = pd.concat(df_list)\n",
    "stats.to_csv(\"documentation/stats_merged.csv\")"
   ]
  },
  {
   "cell_type": "markdown",
   "metadata": {},
   "source": [
    "## Country-wise analysis\n",
    "\n",
    "The following section focuses on analyzing the results of a country-wise analysis."
   ]
  },
  {
   "cell_type": "markdown",
   "metadata": {},
   "source": [
    "### Filter counry-specific scenarios"
   ]
  },
  {
   "cell_type": "code",
   "execution_count": null,
   "metadata": {},
   "outputs": [],
   "source": [
    "# filter country-specific scenarios\n",
    "stats_country = stats[stats.index.str.len() <= 2].copy()"
   ]
  },
  {
   "cell_type": "code",
   "execution_count": null,
   "metadata": {},
   "outputs": [],
   "source": [
    "# add ISO3 country code for later analyses\n",
    "stats_country[\"iso_a3\"] = cc.convert(names=stats_country.index, to='ISO3')"
   ]
  },
  {
   "cell_type": "markdown",
   "metadata": {},
   "source": [
    "### Filter the UN countries"
   ]
  },
  {
   "cell_type": "code",
   "execution_count": null,
   "metadata": {},
   "outputs": [],
   "source": [
    "# Check what 2-letter country codes are missing from the UN list\n",
    "# the list is then stored in missing_codes\n",
    "UN_2_code = coco.convert(cc.UN.name_short, to=\"ISO2\")\n",
    "missing_codes = set(UN_2_code) - set(stats_country.index)\n",
    "missing_codes_name_short = coco.convert(list(missing_codes), to=\"name_short\")\n",
    "print(\"The missing UN countries are as follows:\")\n",
    "dict(zip(missing_codes, missing_codes_name_short))"
   ]
  },
  {
   "cell_type": "code",
   "execution_count": null,
   "metadata": {},
   "outputs": [],
   "source": [
    "UN_stats = stats_country.loc[stats_country.index.intersection(UN_2_code)]\n",
    "\n",
    "total_pop = UN_stats[('build_shapes', 'pop')].sum()\n",
    "\n",
    "print((\"Total population: {:.2f}\".format(total_pop/1e9)))\n",
    "\n",
    "total_pop_working = UN_stats.loc[UN_stats[('snakemake_status', 'solve_network')], ('build_shapes', 'pop')].sum()\n",
    "\n",
    "print((\"Total population working: {:.2f}\".format(total_pop_working/1e9)))\n",
    "print(\"Working represented country [%]: {:.2f}%%\".format(total_pop_working/total_pop*100))"
   ]
  },
  {
   "attachments": {},
   "cell_type": "markdown",
   "metadata": {},
   "source": [
    "## Plot the status of the workflow by country"
   ]
  },
  {
   "attachments": {},
   "cell_type": "markdown",
   "metadata": {},
   "source": [
    "Collect in the column status_level, the number of rules that have succeded"
   ]
  },
  {
   "cell_type": "code",
   "execution_count": null,
   "metadata": {},
   "outputs": [],
   "source": [
    "stats[\"status_level\"] = stats[(\"snakemake_status\", \"solve_network\")]\n",
    "stats[\"status_level\"].sum()/stats.shape[0]"
   ]
  },
  {
   "cell_type": "code",
   "execution_count": null,
   "metadata": {},
   "outputs": [],
   "source": [
    "import cartopy\n",
    "import cartopy.io.shapereader as shpreader\n",
    "import cartopy.crs as ccrs\n",
    "import cartopy.feature as cf\n",
    "import matplotlib.cm as cm\n",
    "\n",
    "def custom_cmap(x):\n",
    "\n",
    "    if x[(\"snakemake_status\", \"solve_network\")] == True:  # till solved network\n",
    "        return (0, 1, 0)  # green\n",
    "    if x[(\"snakemake_status\", \"simplify_network\")] == True:  #\n",
    "        return (0, .5, 0)  # dark green\n",
    "    \n",
    "    return (1.0, 0.8, 0)  # orange\n",
    "    # if x[(\"snakemake_status\", \"base_network\")] == True:\n",
    "    #     return (1, 1, 0)  # yellow\n",
    "    # if x[(\"snakemake_status\", \"build_shapes\")] == True:\n",
    "    #     return (1.0, 0.6, 0)  # orange\n",
    "    # return (1, 0, 0)  # red\n",
    "\n",
    "plt.figure(figsize=(5, 3), dpi=300)\n",
    "ax = plt.axes(projection=ccrs.PlateCarree())\n",
    "#ax.add_feature(cf.LAND)\n",
    "#ax.add_feature(cf.OCEAN)\n",
    "ax.add_feature(cf.COASTLINE)\n",
    "# ax.add_feature(cf.BORDERS, linestyle='-', alpha=.5)\n",
    "#ax.add_feature(cf.LAKES, alpha=0.95)\n",
    "#ax.add_feature(cf.RIVERS)\n",
    "ax.add_feature(cf.BORDERS)\n",
    "# ax.set_extent([-150, 60, -25, 60])\n",
    "\n",
    "countries = gpd.read_file(\n",
    "               gpd.datasets.get_path(\"naturalearth_lowres\")).set_index(\"iso_a3\")\n",
    "\n",
    "stats_plot = stats_country.set_index(\"iso_a3\")\n",
    "\n",
    "exclude_countries = [] #[\"USA\", \"CAN\", \"MEX\", \"RUS\", \"GRL\",  \"TLS\"] #\"IDN\",\n",
    "exclude_continents = [] #[\"Europe\", \"Oceania\"]\n",
    "\n",
    "count_countries = 0\n",
    "\n",
    "for c_iso_a3, row in countries.iterrows():\n",
    "    # if c_iso_a3 in exclude_countries or coco.convert(c_iso_a3, to=\"Continent\") in exclude_continents:\n",
    "    #     continue\n",
    "    if c_iso_a3 in stats_plot.index:\n",
    "        # if not stats_plot.loc[c_iso_a3,(\"snakemake_status\", \"solve_network\")]:\n",
    "        #     continue\n",
    "        ax.add_geometries(row[\"geometry\"], ccrs.PlateCarree(),\n",
    "                          facecolor=custom_cmap(stats_plot.loc[c_iso_a3]),\n",
    "                          label=c_iso_a3)\n",
    "        count_countries += stats_plot.loc[c_iso_a3, (\"snakemake_status\", \"solve_network\")]\n",
    "        # if stats.loc[country.attributes['ISO_A2'], (\"snakemake_status\", \"solve_network\")]:\n",
    "        #     ax.add_geometries(country.geometry, ccrs.PlateCarree(),\n",
    "        #                     facecolor=(0, 1, 0),\n",
    "        #                     label=country.attributes['ISO_A2'])\n",
    "\n",
    "\n",
    "plt.savefig(\"documentation/img.png\")\n",
    "plt.show()"
   ]
  },
  {
   "cell_type": "code",
   "execution_count": null,
   "metadata": {},
   "outputs": [],
   "source": [
    "# import cartopy\n",
    "# import cartopy.io.shapereader as shpreader\n",
    "# import cartopy.crs as ccrs\n",
    "# import cartopy.feature as cf\n",
    "# import matplotlib.cm as cm\n",
    "\n",
    "# def custom_cmap(x):\n",
    "#     if x[(\"snakemake_status\", \"solve_network\")] == True:  # till solved network\n",
    "#         return (0, 1, 0)  # green\n",
    "    \n",
    "#     print(\"Non-green element: \" + str(x.name))\n",
    "\n",
    "#     if x[(\"snakemake_status\", \"simplify_network\")] == True:  #\n",
    "#         return (0, .5, 0)  # dark green\n",
    "#     if x[(\"snakemake_status\", \"base_network\")] == True:\n",
    "#         return (1, 1, 0)  # yellow\n",
    "#     if x[(\"snakemake_status\", \"build_shapes\")] == True:\n",
    "#         return (1.0, 0.6, 0)  # orange\n",
    "#     return (1, 0, 0)  # red\n",
    "\n",
    "# plt.figure(figsize=(5, 3), dpi=300)\n",
    "# ax = plt.axes(projection=ccrs.PlateCarree())\n",
    "# #ax.add_feature(cf.LAND)\n",
    "# #ax.add_feature(cf.OCEAN)\n",
    "# ax.add_feature(cf.COASTLINE)\n",
    "# # ax.add_feature(cf.BORDERS, linestyle='-', alpha=.5)\n",
    "# #ax.add_feature(cf.LAKES, alpha=0.95)\n",
    "# #ax.add_feature(cf.RIVERS)\n",
    "# ax.add_feature(cf.BORDERS)\n",
    "# # ax.set_extent([-150, 60, -25, 60])\n",
    "\n",
    "# shpfilename = shpreader.natural_earth(resolution='110m',\n",
    "#                                       category='cultural',\n",
    "#                                       name='admin_0_countries')\n",
    "# reader = shpreader.Reader(shpfilename)\n",
    "# countries = reader.records()\n",
    "\n",
    "# for country in countries:\n",
    "#     if country.attributes['ISO_A2'] in stats.index :\n",
    "#         ax.add_geometries(country.geometry, ccrs.PlateCarree(),\n",
    "#                           facecolor=custom_cmap(stats.loc[country.attributes['ISO_A2']]),\n",
    "#                           label=country.attributes['ISO_A2'])\n",
    "#         # if stats.loc[country.attributes['ISO_A2'], (\"snakemake_status\", \"solve_network\")]:\n",
    "#         #     ax.add_geometries(country.geometry, ccrs.PlateCarree(),\n",
    "#         #                     facecolor=(0, 1, 0),\n",
    "#         #                     label=country.attributes['ISO_A2'])\n",
    "\n",
    "\n",
    "# plt.savefig(\"documentation/img.png\")\n",
    "# plt.show()"
   ]
  },
  {
   "cell_type": "markdown",
   "metadata": {},
   "source": [
    "## Plot the computational requirements \n",
    "\n",
    "In the following, the computational statistics by scenario are plotted and analyzed"
   ]
  },
  {
   "cell_type": "code",
   "execution_count": null,
   "metadata": {},
   "outputs": [],
   "source": [
    "sel_cols = [\"total_time\", \"max_memory\"]\n",
    "\n",
    "# stats_comp = stats.loc[:, stats.columns.get_level_values(1).isin(sel_cols)].transpose()\n",
    "# stats_comp.index = stats_comp.index.reorder_levels([1,0])\n",
    "# stats_comp.columns = [\"USa\", \"USb\", \"Europe\", \"SouthAmerica\", \"Africa\"]\n",
    "\n",
    "stats_comp = stats.loc[:, stats.columns.get_level_values(1).isin(sel_cols)].iloc[2:].transpose()\n",
    "stats_comp.index = stats_comp.index.reorder_levels([1,0])\n",
    "stats_comp.columns = [\"Europe\", \"SouthAmerica\", \"Africa\"]\n",
    "\n",
    "for kn, gv in stats_comp.groupby(stats_comp.index.get_level_values(0)):\n",
    "    gv_plot = gv.copy()\n",
    "    gv_plot.index = gv_plot.index.droplevel(0)\n",
    "\n",
    "\n",
    "    title_val = kn\n",
    "    if kn == \"max_memory\":\n",
    "        title_val = \"max_memory (Gb)\"\n",
    "        gv_plot = gv_plot/1000\n",
    "        # gv_plot = gv_plot.groupby(gv_plot.index).max()\n",
    "    elif kn == \"total_time\":\n",
    "        title_val = \"total_time (h)\"\n",
    "        gv_plot = gv_plot/3600\n",
    "        # gv_plot = gv_plot.groupby(gv_plot.index).sum()\n",
    "\n",
    "    gv_plot.plot(kind=\"bar\", title=title_val,logy=True)"
   ]
  },
  {
   "cell_type": "markdown",
   "metadata": {},
   "source": [
    "### Other plotting and analyses"
   ]
  },
  {
   "cell_type": "code",
   "execution_count": null,
   "metadata": {},
   "outputs": [],
   "source": [
    "import cartopy\n",
    "import cartopy.io.shapereader as shpreader\n",
    "import cartopy.crs as ccrs\n",
    "import cartopy.feature as cf\n",
    "import matplotlib.cm as cm\n",
    "\n",
    "def custom_cmap_original(x):\n",
    "    if x == \"NG\":  # till solved network\n",
    "        return (0, 1, 0)  # green\n",
    "    return (0.2, 0.2, 1)  # blue\n",
    "\n",
    "plt.figure(figsize=(5, 3), dpi=300)\n",
    "ax = plt.axes(projection=ccrs.PlateCarree())\n",
    "#ax.add_feature(cf.LAND)\n",
    "#ax.add_feature(cf.OCEAN)\n",
    "ax.add_feature(cf.COASTLINE)\n",
    "# ax.add_feature(cf.BORDERS, linestyle='-', alpha=.5)\n",
    "#ax.add_feature(cf.LAKES, alpha=0.95)\n",
    "#ax.add_feature(cf.RIVERS)\n",
    "ax.add_feature(cf.BORDERS)\n",
    "# ax.set_extent([-150, 60, -25, 60])\n",
    "\n",
    "shpfilename = shpreader.natural_earth(resolution='110m',\n",
    "                                      category='cultural',\n",
    "                                      name='admin_0_countries')\n",
    "reader = shpreader.Reader(shpfilename)\n",
    "countries = reader.records()\n",
    "\n",
    "for country in countries:\n",
    "    if country.attributes['CONTINENT'] == \"Africa\":\n",
    "        ax.add_geometries(country.geometry, ccrs.PlateCarree(),\n",
    "                          facecolor=custom_cmap_original(country.attributes['ISO_A2']),\n",
    "                          label=country.attributes['ISO_A2'])\n",
    "\n",
    "\n",
    "plt.savefig(\"documentation/img_original.png\")\n",
    "plt.show()"
   ]
  },
  {
   "cell_type": "code",
   "execution_count": null,
   "metadata": {},
   "outputs": [],
   "source": [
    "world = gpd.read_file(gpd.datasets.get_path('naturalearth_lowres'))"
   ]
  },
  {
   "cell_type": "code",
   "execution_count": null,
   "metadata": {},
   "outputs": [],
   "source": [
    "world.keys()"
   ]
  },
  {
   "cell_type": "code",
   "execution_count": null,
   "metadata": {},
   "outputs": [],
   "source": [
    "plt.figure(figsize=(5, 3), dpi=300)\n",
    "ax = plt.axes(projection=ccrs.PlateCarree())\n",
    "#ax.add_feature(cf.LAND)\n",
    "#ax.add_feature(cf.OCEAN)\n",
    "ax.add_feature(cf.COASTLINE)\n",
    "# ax.add_feature(cf.BORDERS, linestyle='-', alpha=.5)\n",
    "#ax.add_feature(cf.LAKES, alpha=0.95)\n",
    "#ax.add_feature(cf.RIVERS)\n",
    "ax.add_feature(cf.BORDERS)\n",
    "# ax.set_extent([-150, 60, -25, 60])\n",
    "\n",
    "shpfilename = shpreader.natural_earth(resolution='110m',\n",
    "                                      category='cultural',\n",
    "                                      name='admin_0_countries')\n",
    "reader = shpreader.Reader(shpfilename)\n",
    "countries = reader.records()\n",
    "\n",
    "for country in countries:\n",
    "    if country.attributes['ISO_A2'] in stats[stats[(\"snakemake_status\", \"add_electricity\")] == False].index:\n",
    "        print(country.attributes['ISO_A2'])\n",
    "        ax.add_geometries(country.geometry, ccrs.PlateCarree(),\n",
    "                          facecolor=(1, 0, 0),\n",
    "                          label=country.attributes['ISO_A2'])\n",
    "\n",
    "\n",
    "plt.savefig(\"documentation/img_not_working.png\")\n",
    "plt.show()"
   ]
  },
  {
   "cell_type": "code",
   "execution_count": null,
   "metadata": {},
   "outputs": [],
   "source": [
    "# # This code is useful to remove the output files of non-working scenarios to repeat them\n",
    "# # commented out by default\n",
    " \n",
    "# import pandas as pd\n",
    "\n",
    "# df_list = []\n",
    "\n",
    "# for c in stats.index[stats.loc[:, (\"snakemake_status\", \"solve_network\")]==False]:\n",
    "\n",
    "#     if c not in UN_2_code:\n",
    "#         continue\n",
    "#     stat_path = os.getcwd() + f\"/pypsa-earth/results/{c}/stats.csv\"\n",
    "#     # # print(stat_path)\n",
    "#     # if not os.path.isfile(stat_path):\n",
    "#     #     print(f\"SKIP {c}\")\n",
    "#     #     # continue\n",
    "    \n",
    "#     # os.remove(os.getcwd() + f\"/pypsa-earth/results/{c}/scenario.done\")\n",
    "#     # os.remove(os.getcwd() + f\"/pypsa-earth/results/{c}/stats.csv\")\n",
    "\n",
    "#     for d in [\"results\", \"resources\", \"networks\"]:\n",
    "#         dirpath = os.getcwd() + f\"/pypsa-earth/{d}/{c}/\"\n",
    "#         if os.path.isdir(dirpath):\n",
    "#             # print(dirpath)\n",
    "#             shutil.rmtree(dirpath)"
   ]
  }
 ],
 "metadata": {
  "kernelspec": {
   "display_name": "pypsa-earth",
   "language": "python",
   "name": "python3"
  },
  "language_info": {
   "codemirror_mode": {
    "name": "ipython",
    "version": 3
   },
   "file_extension": ".py",
   "mimetype": "text/x-python",
   "name": "python",
   "nbconvert_exporter": "python",
   "pygments_lexer": "ipython3",
   "version": "3.10.12"
  },
  "orig_nbformat": 4,
  "vscode": {
   "interpreter": {
    "hash": "418917b9248b5bd7f386cac67ef3e0520b071b993b77cc6b1a9784bab300aad4"
   }
  }
 },
 "nbformat": 4,
 "nbformat_minor": 2
}
