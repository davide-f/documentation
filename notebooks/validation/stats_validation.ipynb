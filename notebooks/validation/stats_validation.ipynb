{
 "cells": [
  {
   "attachments": {},
   "cell_type": "markdown",
   "metadata": {},
   "source": [
    "# Validation of the PyPSA-Earth stats\n",
    "\n",
    "## Description\n",
    "This task aims to develop such notebook that:\n",
    "- takes as input the files from folders from pypsa-earth: `results/{scenarios}/stats.csv` (see PR Create statistics #579). In the meantime, data is loaded from `notebooks/validation/temp_stats_csv/stats_merged_20_3_23.csv`\n",
    "- loads open data on power systems across the world\n",
    "- Creates plots to perform the validation\n",
    "Plots and tables shall have different aggregation levels (e.g. demand for a continent)\n",
    "\n",
    "Create statistics for:\n",
    "- demand (See `demand_validation.ipynb`)\n",
    "- installed capacity by technology (compare with: IRENA, ...)\n",
    "- renewable sources  (compare with: IRENA, ...)\n",
    "- network characteristics (length of lines for example, https://wiki.openmod-initiative.org/wiki/Transmission_network_datasets)\n",
    "\n",
    "Plots:\n",
    "- Compare the statistics of the PyPSA-Earth model with open data\n",
    "\n",
    "## Public data sources collection\n",
    "These sources could be helpful:\n",
    "- [ENTSO-E](https://transparency.entsoe.eu/generation/r2/installedGenerationCapacityAggregation/show)\n",
    "- [IRENA](https://www.irena.org/data-and-statistics), not working\n",
    "- [IEA](https://www.iea.org/data-and-statistics)\n",
    "    - Electricity demand: https://www.iea.org/data-and-statistics/data-product/world-energy-balances-highlights\n",
    "- [WEC](https://www.worldenergy.org/statistics/), not working\n",
    "- [WRI](https://www.wri.org/resources/data-sets)\n",
    "- [UN](https://unstats.un.org/unsd/snaama/)\n",
    "- [WBG](https://datacatalog.worldbank.org/dataset/world-development-indicators)\n",
    "- [OECD](https://data.oecd.org/)\n",
    "- [Eurostat](https://ec.europa.eu/eurostat/data/database)\n",
    "- [EIA](https://www.eia.gov/outlooks/aeo/data/browser/)\n",
    "- [Enerdata](https://www.enerdata.net/research/)\n",
    "- [BP](https://www.bp.com/en/global/corporate/energy-economics/statistical-review-of-world-energy.html)\n",
    "- [USAID](https://www.usaid.gov/what-we-do/energy/global-energy-database), Single countries only?\n",
    "\n",
    "https://www.usaid.gov/powerafrica/nigeria\n"
   ]
  },
  {
   "attachments": {},
   "cell_type": "markdown",
   "metadata": {},
   "source": [
    "## TODO\n",
    "- DONE: Include continent analysis with country converter coco\n",
    "- DONE: Continent `Asia` shows high ror and low hydro in PyPSA-Earth, but low ror and high hydro in IRENA. Why? Technology mismatch?\n",
    "- Include stats on how many of the countries of a specific continent are in the PyPSA-Earth model, to better compare continental data. coco could be helpful here. Is this necessary?\n",
    "- Fossil fuels as oil, gas, coal are often summed up as 'Fossil fuels n.e.s' in Europe which means 'not elsewhere specified' in IRENA data. How to deal with this?"
   ]
  },
  {
   "attachments": {},
   "cell_type": "markdown",
   "metadata": {},
   "source": [
    "## Questions\n",
    "- Where is the demand in `stats.csv` ?"
   ]
  },
  {
   "attachments": {},
   "cell_type": "markdown",
   "metadata": {},
   "source": [
    "## Preparation"
   ]
  },
  {
   "cell_type": "markdown",
   "metadata": {},
   "source": [
    "### Import packages"
   ]
  },
  {
   "cell_type": "code",
   "execution_count": null,
   "metadata": {},
   "outputs": [],
   "source": [
    "import logging\n",
    "import os\n",
    "import sys\n",
    "\n",
    "import pypsa\n",
    "import numpy as np\n",
    "import matplotlib.pyplot as plt\n",
    "import pandas as pd\n",
    "import country_converter as coco\n",
    "\n",
    "logger = logging.getLogger(__name__)\n",
    "\n",
    "pd.set_option(\"display.max_columns\", None)\n",
    "pd.set_option(\"display.max_colwidth\", 70)"
   ]
  },
  {
   "cell_type": "code",
   "execution_count": null,
   "metadata": {},
   "outputs": [],
   "source": [
    "nice_names = {\n",
    "    \"nuclear\": \"Nuclear\",\n",
    "    \"oil\": \"Oil\",\n",
    "    \"onwind\": \"Onshore wind\",\n",
    "    #\"ror\": \"Run of river\",\n",
    "    \"solar\": \"Solar PV\",\n",
    "    \"hydro\": \"Hydro\",\n",
    "    \"gas\": \"Gas\",\n",
    "    \"coal_and_lignite\": \"Coal\",\n",
    "}"
   ]
  },
  {
   "cell_type": "markdown",
   "metadata": {},
   "source": [
    "### Set main directory to root folder"
   ]
  },
  {
   "cell_type": "code",
   "execution_count": null,
   "metadata": {},
   "outputs": [],
   "source": [
    "# change current directory\n",
    "module_path = os.path.abspath(os.path.join('../../../')) # To import helpers\n",
    "\n",
    "if module_path not in sys.path:\n",
    "    sys.path.append(module_path+\"/pypsa-earth/scripts\")\n",
    "    \n",
    "from _helpers import sets_path_to_root, country_name_2_two_digits, two_digits_2_name_country\n",
    "\n",
    "sets_path_to_root(\"documentation\")"
   ]
  },
  {
   "attachments": {},
   "cell_type": "markdown",
   "metadata": {},
   "source": [
    "### Load stats data (obtained from pypsa-earth)"
   ]
  },
  {
   "cell_type": "code",
   "execution_count": null,
   "metadata": {},
   "outputs": [],
   "source": [
    "# Read it with multilevel column names. Make sure that the country index \"NA\" is not recognized as NaN\n",
    "stats = pd.read_csv(\"notebooks/validation/temp_stats_csv/stats_merged_07_04_23.csv\", index_col=0, header=[0,1], keep_default_na=False, na_values=\"\")"
   ]
  },
  {
   "cell_type": "markdown",
   "metadata": {},
   "source": [
    "### Load public data"
   ]
  },
  {
   "cell_type": "code",
   "execution_count": null,
   "metadata": {},
   "outputs": [],
   "source": [
    "EXAMPLE_URL=\"https://pxweb.irena.org/pxweb/en/IRENASTAT/IRENASTAT__Power%20Capacity%20and%20Generation/ELECCAP_2022_cycle2.px/\""
   ]
  },
  {
   "cell_type": "code",
   "execution_count": null,
   "metadata": {},
   "outputs": [],
   "source": [
    "# Read the data \"https://pxweb.irena.org/pxweb/en/IRENASTAT/IRENASTAT__Power%20Capacity%20and%20Generation/ELECCAP_2022_cycle2.px/\"\n",
    "# TODO can we download the data directly?\n",
    "irena_eleccap = pd.read_csv(\"notebooks/validation/temp_irena/ELECCAP_20230314-165057.csv\", encoding=\"latin-1\", skiprows=2)\n",
    "\n",
    "# Replace \"..\" in the dataframe with NaN\n",
    "irena_eleccap = irena_eleccap.replace(\"..\", np.nan)\n",
    "\n",
    "# Change dtype of column \"Installed electricity capacity by country/area (MW)\" to float\n",
    "irena_eleccap[\"Installed electricity capacity by country/area (MW)\"] = irena_eleccap[\"Installed electricity capacity by country/area (MW)\"].astype(float)"
   ]
  },
  {
   "cell_type": "code",
   "execution_count": null,
   "metadata": {},
   "outputs": [],
   "source": [
    "# Combine ongrid and offgrid\n",
    "irena_eleccap = irena_eleccap.groupby([\"Country/area\", \"Year\", \"Technology\"]).sum(numeric_only=True).reset_index() #\"Technology\", \"Installed electricity capacity by country/area (MW)\"\n",
    "\n",
    "# Delete the column \"Year\" since it is not needed anymore\n",
    "irena_eleccap = irena_eleccap.drop(columns=[\"Year\"])"
   ]
  },
  {
   "cell_type": "code",
   "execution_count": null,
   "metadata": {},
   "outputs": [],
   "source": [
    "# Check data for a single country\n",
    "irena_eleccap[irena_eleccap[\"Country/area\"] == \"Germany\"].head(5)"
   ]
  },
  {
   "attachments": {},
   "cell_type": "markdown",
   "metadata": {},
   "source": [
    "## Validation"
   ]
  },
  {
   "attachments": {},
   "cell_type": "markdown",
   "metadata": {},
   "source": [
    "### Installed capacity by technology"
   ]
  },
  {
   "cell_type": "code",
   "execution_count": null,
   "metadata": {},
   "outputs": [],
   "source": [
    "# Define the technologies which should be compared\n",
    "techs = [\"CCGT\", \"OCGT\", \"nuclear\", \"onwind\", \"solar\", \"ror\",  \"hydro\", \"oil\", \"coal\", \"lignite\"]\n",
    "\n",
    "# Select rule \"add_electricity\" and their techs \n",
    "stats_capacities = stats[\"add_electricity\"].loc[:, (techs)]\n",
    "\n",
    "# Add continent at the beginning of the dataframe\n",
    "stats_capacities.insert(0, \"continent\", coco.convert(names = stats_capacities.index, src = 'ISO2', to = 'continent'))\n",
    "\n",
    "# Replace NaN with zeros\n",
    "stats_capacities = stats_capacities.fillna(0)"
   ]
  },
  {
   "cell_type": "code",
   "execution_count": null,
   "metadata": {},
   "outputs": [],
   "source": [
    "# Combine CCGT and OCGT to \"gas\"\n",
    "stats_capacities[\"gas\"] = stats_capacities[\"CCGT\"] + stats_capacities[\"OCGT\"]\n",
    "stats_capacities[\"coal_and_lignite\"] = stats_capacities[\"coal\"] + stats_capacities[\"lignite\"]\n",
    "stats_capacities[\"hydro\"] = stats_capacities[\"ror\"] + stats_capacities[\"hydro\"]\n",
    "del stats_capacities[\"CCGT\"] \n",
    "del stats_capacities[\"OCGT\"] # TODO write in one line\n",
    "del stats_capacities[\"coal\"] \n",
    "del stats_capacities[\"lignite\"]\n",
    "del stats_capacities[\"ror\"]"
   ]
  },
  {
   "cell_type": "code",
   "execution_count": null,
   "metadata": {},
   "outputs": [],
   "source": [
    "# Rename to nice plotting names\n",
    "stats_capacities.rename(columns=nice_names, inplace=True)"
   ]
  },
  {
   "cell_type": "code",
   "execution_count": null,
   "metadata": {},
   "outputs": [],
   "source": [
    "stats_capacities.head()"
   ]
  },
  {
   "attachments": {},
   "cell_type": "markdown",
   "metadata": {},
   "source": [
    "#### Uniform technology names and dataframe structure"
   ]
  },
  {
   "cell_type": "code",
   "execution_count": null,
   "metadata": {},
   "outputs": [],
   "source": [
    "# Create dict to match the technology names of stats_capacities and irena eleccap\n",
    "uniform_names = {\"Solar photovoltaic\": \"solar\",\n",
    "        \"Onshore wind energy\": \"onwind\",\n",
    "        #\"Offshore wind energy\": \"offwind\",\n",
    "        \"Renewable hydropower\": \"hydro\",\n",
    "        \"Nuclear\": \"nuclear\",\n",
    "        \"Oil\": \"oil\",\n",
    "        \"Natural gas\": \"gas\",\n",
    "        \"Mixed Hydro Plants\": \"ror\", # TODO Is this correct? Check IRENA    \n",
    "        \"Coal and peat\": \"coal_and_lignite\",\n",
    "        }"
   ]
  },
  {
   "cell_type": "code",
   "execution_count": null,
   "metadata": {},
   "outputs": [],
   "source": [
    "# Rename the technologies in irena_eleccap to match the names in stats_capacities using the dict names\n",
    "irena_eleccap[\"Technology\"] = irena_eleccap[\"Technology\"].replace(uniform_names)\n",
    "\n",
    "# Transform technologies to columns and have the countries as index\n",
    "irena_eleccap = irena_eleccap.pivot_table(index=[\"Country/area\"], columns=\"Technology\", values=\"Installed electricity capacity by country/area (MW)\")\n",
    "# Reset name of columns\n",
    "irena_eleccap.columns.name = None\n",
    "\n",
    "# Combine the columns ror and hydro and name them hydro\n",
    "irena_eleccap[\"hydro\"] = irena_eleccap[\"ror\"] + irena_eleccap[\"hydro\"]\n",
    "del irena_eleccap[\"ror\"]"
   ]
  },
  {
   "cell_type": "code",
   "execution_count": null,
   "metadata": {},
   "outputs": [],
   "source": [
    "# Change the index of irena_eleccap to two digit country name using the function country_name_2_two_digits()\n",
    "irena_eleccap.index = irena_eleccap.index.map(country_name_2_two_digits)"
   ]
  },
  {
   "cell_type": "code",
   "execution_count": null,
   "metadata": {},
   "outputs": [],
   "source": [
    "# Add continent at the beginning of the dataframe\n",
    "irena_eleccap.insert(0, \"continent\", coco.convert(names = irena_eleccap.index, src = 'ISO2', to = 'continent'))\n",
    "\n",
    "# Rename to nice plotting names\n",
    "irena_eleccap.rename(columns=nice_names, inplace=True)"
   ]
  },
  {
   "attachments": {},
   "cell_type": "markdown",
   "metadata": {},
   "source": [
    "#### Plot country comparison"
   ]
  },
  {
   "cell_type": "code",
   "execution_count": null,
   "metadata": {},
   "outputs": [],
   "source": [
    "def plot_barplot(data_stats, data_irena, area):\n",
    "    # Plot a barplot to compare the technologies of the two dataframes irena_eleccap and stats_capacities\n",
    "\n",
    "    # Get the index values\n",
    "    index = np.arange(len(data_stats))\n",
    "    barWidth = 0.3\n",
    "\n",
    "    # Create a barplot\n",
    "    plt.figure(figsize=(10, 4))\n",
    "    plt.bar(index - barWidth/2, data_stats/1e3, color=['g'], alpha=1, edgecolor='white', width=barWidth) # convert from MW to GW\n",
    "    plt.bar(index + barWidth/2, data_irena/1e3, color=['g'], alpha=0.3, edgecolor='white', width=barWidth) # convert from MW to GW\n",
    "\n",
    "    # Enhance graph\n",
    "    plt.xticks(index, data_stats.index)\n",
    "    plt.ylabel(\"Capacity in GW\")\n",
    "    plt.legend([\"PyPSA-Earth\", \"IRENA\"], loc='upper left', ncol=1)\n",
    "\n",
    "    plt.grid(axis='y', alpha=0.5)\n",
    "    plt.title(f\"Electric capacity in {area}\")\n",
    "\n",
    "    # Show graphic & save it\n",
    "    plt.savefig(f\"notebooks/validation/temp_results/el_cap_{area}\", bbox_inches='tight') # TODO add save path\n",
    "    plt.show()\n",
    "    \n",
    "    return"
   ]
  },
  {
   "cell_type": "code",
   "execution_count": null,
   "metadata": {},
   "outputs": [],
   "source": [
    "def is_country_or_continent(area_name):\n",
    "\n",
    "    # Check if the area name is a valid ISO-3166 country code\n",
    "\n",
    "    area_name = coco.convert(names=area_name, to='name_short')\n",
    "    if area_name != \"not found\":\n",
    "        return \"country\"\n",
    "    else:\n",
    "        return \"continent\" # TODO all invalid names are continents, this should be improved\n"
   ]
  },
  {
   "cell_type": "code",
   "execution_count": null,
   "metadata": {},
   "outputs": [],
   "source": [
    "def area_selection(area, stats_capacities, irena_eleccap):\n",
    "\n",
    "    _stats_capacities = stats_capacities.copy()\n",
    "    _irena_eleccap = irena_eleccap.copy()\n",
    "\n",
    "    if is_country_or_continent(area) == \"continent\":\n",
    "\n",
    "        # Group the data by continent if area is \"continent\"\n",
    "        _irena_eleccap = _irena_eleccap.groupby(\"continent\").sum()\n",
    "        _stats_capacities = _stats_capacities.groupby(\"continent\").sum()\n",
    "\n",
    "    elif is_country_or_continent(area) == \"country\":\n",
    "        try:\n",
    "            _irena_eleccap.drop(columns=[\"continent\"], inplace=True)\n",
    "            _stats_capacities.drop(columns=[\"continent\"], inplace=True)\n",
    "        except:\n",
    "            pass\n",
    "\n",
    "    # Select the data for the area\n",
    "    data_irena = _irena_eleccap.loc[area][_stats_capacities.loc[area].index]\n",
    "    data_stats = _stats_capacities.loc[area]\n",
    "\n",
    "    return data_stats, data_irena"
   ]
  },
  {
   "attachments": {},
   "cell_type": "markdown",
   "metadata": {},
   "source": [
    "### Plot comparison (both country or continent possible)"
   ]
  },
  {
   "cell_type": "code",
   "execution_count": null,
   "metadata": {},
   "outputs": [],
   "source": [
    "area = \"MA\"\n",
    "data_stats, data_irena = area_selection(area, stats_capacities, irena_eleccap)\n",
    "plot_barplot(data_stats, data_irena, area)"
   ]
  },
  {
   "cell_type": "code",
   "execution_count": null,
   "metadata": {},
   "outputs": [],
   "source": [
    "# Plot and save all continents\n",
    "areas = stats_capacities.continent.unique()\n",
    "areas = areas[areas != \"not found\"]\n",
    "for area in areas:\n",
    "    data_stats, data_irena = area_selection(area, stats_capacities, irena_eleccap)\n",
    "    plot_barplot(data_stats, data_irena, area)\n",
    "    if area == \"Europe\":\n",
    "        print(\"Fossil fuels as oil, gas, coal are often summed up as 'Fossil fuels n.e.s' in Europe which means 'not elsewhere specified' in IRENA data.\")"
   ]
  },
  {
   "attachments": {},
   "cell_type": "markdown",
   "metadata": {},
   "source": [
    "### Demand"
   ]
  },
  {
   "cell_type": "code",
   "execution_count": null,
   "metadata": {},
   "outputs": [],
   "source": [
    "stats.head()"
   ]
  },
  {
   "cell_type": "code",
   "execution_count": null,
   "metadata": {},
   "outputs": [],
   "source": [
    "# Select rule \"add_electricity\" and their techs \n",
    "stats_demand = stats[\"add_electricity\"].loc[:, \"demand\"]\n",
    "stats_demand_solve = stats[\"solve_network\"].loc[:, \"demand\"]"
   ]
  },
  {
   "cell_type": "code",
   "execution_count": null,
   "metadata": {},
   "outputs": [],
   "source": [
    "# Create a dataframe with the demand of add_electricity and solve_network\n",
    "stats_demand = pd.concat([stats[\"add_electricity\"].loc[:, \"demand\"], stats[\"solve_network\"].loc[:, \"demand\"]], axis=1)\n",
    "stats_demand.columns = [\"demand_add_el\", \"demand_solve\"]"
   ]
  },
  {
   "cell_type": "code",
   "execution_count": null,
   "metadata": {},
   "outputs": [],
   "source": [
    "# Plot a boxplot to compare the difference in percent between the demand in \"stats_demand\" and \"stats_demand_solve\"\n",
    "diff = ((stats_demand[\"demand_solve\"] - stats_demand[\"demand_add_el\"])/stats_demand[\"demand_add_el\"]*100).dropna()\n",
    "plt.figure(figsize=(6, 4))\n",
    "plt.boxplot(diff)\n",
    "plt.ylabel(\"Demand reduction in %\")\n",
    "plt.title(\"Demand reduction from 'add_electricity' to 'solve_network'\")\n",
    "plt.grid(axis='y', alpha=0.5)\n",
    "plt.xticks([1], [\"Countries\"])\n",
    "plt.show()"
   ]
  },
  {
   "cell_type": "code",
   "execution_count": null,
   "metadata": {},
   "outputs": [],
   "source": [
    "diff.describe()"
   ]
  },
  {
   "cell_type": "code",
   "execution_count": null,
   "metadata": {},
   "outputs": [],
   "source": [
    "# Add continent at the beginning of the dataframe\n",
    "stats_demand.insert(0, \"continent\", coco.convert(names = stats_demand.index, src = 'ISO2', to = 'continent'))"
   ]
  },
  {
   "cell_type": "code",
   "execution_count": null,
   "metadata": {},
   "outputs": [],
   "source": [
    "stats_demand.head()"
   ]
  },
  {
   "attachments": {},
   "cell_type": "markdown",
   "metadata": {},
   "source": [
    "IEA"
   ]
  },
  {
   "cell_type": "code",
   "execution_count": null,
   "metadata": {},
   "outputs": [],
   "source": [
    "# Read the data from the excel file\n",
    "iea_web = pd.read_excel(\"notebooks/validation/temp_IEA/World Energy Balances Highlights 2022.xlsx\", sheet_name=\"TimeSeries_1971-2021\", skiprows=1, index_col=0)"
   ]
  },
  {
   "cell_type": "code",
   "execution_count": null,
   "metadata": {},
   "outputs": [],
   "source": [
    "# filter the data, only \"Total final consumption (PJ)\" in the column \"Flow\" and \"Electricity\" in the column \"Product\" is required\n",
    "iea_el_demand = iea_web[(iea_web[\"Flow\"] == \"Total final consumption (PJ)\") & (iea_web[\"Product\"] == \"Electricity\")]\n",
    "\n",
    "# Get electricity demand of 2020 (most recent one available)\n",
    "iea_el_demand = pd.DataFrame(iea_el_demand[2020]) * 0.277777778 #convert PJ to TWh "
   ]
  },
  {
   "cell_type": "code",
   "execution_count": null,
   "metadata": {},
   "outputs": [],
   "source": [
    "# Change index entry \"Non-OECD Asia (including China)\" to \"Non-OECD Asia (including C)\" to avoid regex to match \"China\"\n",
    "iea_el_demand.rename(index={\"Non-OECD Asia (including China)\": \"Non-OECD Asia (including C)\"}, inplace=True)\n",
    "\n",
    "# Change country name to two digit country code and keep the old index where country_name_2_two_digits() returns \"not found\"\n",
    "old_index = iea_el_demand.index.tolist()\n",
    "new_index = iea_el_demand.index.map(country_name_2_two_digits) .tolist()\n",
    "\n",
    "for i in range(len(new_index)):\n",
    "    if new_index[i] == \"not found\":\n",
    "        new_index[i] = old_index[i]\n",
    "\n",
    "iea_el_demand.index = new_index"
   ]
  },
  {
   "cell_type": "code",
   "execution_count": null,
   "metadata": {},
   "outputs": [],
   "source": [
    "iea_el_demand.head()"
   ]
  },
  {
   "attachments": {},
   "cell_type": "markdown",
   "metadata": {},
   "source": [
    "### Networks"
   ]
  },
  {
   "cell_type": "code",
   "execution_count": null,
   "metadata": {},
   "outputs": [],
   "source": [
    "# Select rule \"add_electricity\" and their techs \n",
    "stats_network = stats[\"base_network\"].loc[:, [\"lines_length\", \"lines_capacity\"]]"
   ]
  },
  {
   "cell_type": "code",
   "execution_count": null,
   "metadata": {},
   "outputs": [],
   "source": [
    "# Add continent at the beginning of the dataframe\n",
    "stats_network.insert(0, \"continent\", coco.convert(names = stats_network.index, src = 'ISO2', to = 'continent'))"
   ]
  },
  {
   "cell_type": "code",
   "execution_count": null,
   "metadata": {},
   "outputs": [],
   "source": [
    "stats_network.head()"
   ]
  },
  {
   "attachments": {},
   "cell_type": "markdown",
   "metadata": {},
   "source": [
    "GridKit"
   ]
  },
  {
   "cell_type": "code",
   "execution_count": null,
   "metadata": {},
   "outputs": [],
   "source": [
    "# Get GridKit data https://zenodo.org/record/47317#.ZBw1KvaZM-U. Manually downloaded and extracted.\n",
    "gridkit_europe = pd.read_csv(\"notebooks/validation/temp_gridkit/gridkit_euorpe/gridkit_europe-highvoltage-links.csv\")\n",
    "gridkit_northamerica = pd.read_csv(\"notebooks/validation/temp_gridkit/gridkit_north_america/gridkit_north_america-highvoltage-links.csv\")"
   ]
  },
  {
   "cell_type": "code",
   "execution_count": null,
   "metadata": {},
   "outputs": [],
   "source": [
    "gridkit_europe.head()"
   ]
  },
  {
   "cell_type": "code",
   "execution_count": null,
   "metadata": {},
   "outputs": [],
   "source": [
    "gridkit_europe_length = gridkit_europe[\"length_m\"].sum() / 1e3 # convert from m to km\n",
    "gridkit_northamerica_length = gridkit_northamerica[\"length_m\"].sum() / 1e3 # convert from m to km"
   ]
  },
  {
   "cell_type": "code",
   "execution_count": null,
   "metadata": {},
   "outputs": [],
   "source": [
    "gridkit_europe_length"
   ]
  },
  {
   "cell_type": "code",
   "execution_count": null,
   "metadata": {},
   "outputs": [],
   "source": [
    "gridkit_northamerica_length"
   ]
  }
 ],
 "metadata": {
  "kernelspec": {
   "display_name": "pypsa-earth",
   "language": "python",
   "name": "python3"
  },
  "language_info": {
   "codemirror_mode": {
    "name": "ipython",
    "version": 3
   },
   "file_extension": ".py",
   "mimetype": "text/x-python",
   "name": "python",
   "nbconvert_exporter": "python",
   "pygments_lexer": "ipython3",
   "version": "3.10.9"
  },
  "orig_nbformat": 4
 },
 "nbformat": 4,
 "nbformat_minor": 2
}
