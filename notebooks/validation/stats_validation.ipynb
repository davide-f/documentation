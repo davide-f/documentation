{
 "cells": [
  {
   "cell_type": "markdown",
   "metadata": {},
   "source": [
    "# Validation of the PyPSA-Earth stats\n",
    "\n",
    "## Description\n",
    "This task aims to develop such notebook that:\n",
    "- takes as input the files from folders from pypsa-earth: `results/{scenarios}/stats.csv` (see PR Create statistics #579). In the meantime, data is loaded from `notebooks/validation/temp_stats_csv/stats_merged.csv`\n",
    "- loads open data on power systems across the world\n",
    "- Creates plots to perform the validation\n",
    "Plots and tables shall have different aggregation levels (e.g. demand for a continent)\n",
    "\n",
    "Create statistics for:\n",
    "- demand\n",
    "- installed capacity by technology\n",
    "- renewable sources\n",
    "- network characteristics (length of lines for example)\n",
    "\n",
    "Plots:\n",
    "- Compare the statistics of the PyPSA-Earth model with open data\n",
    "\n",
    "## Public data sources collection\n",
    "These sources could be helpful:\n",
    "- [ENTSO-E](https://transparency.entsoe.eu/generation/r2/installedGenerationCapacityAggregation/show)\n",
    "- [IRENA](https://www.irena.org/data-and-statistics), not working\n",
    "- [IEA](https://www.iea.org/data-and-statistics)\n",
    "- [WEC](https://www.worldenergy.org/statistics/), not working\n",
    "- [WRI](https://www.wri.org/resources/data-sets)\n",
    "- [UN](https://unstats.un.org/unsd/snaama/)\n",
    "- [WBG](https://datacatalog.worldbank.org/dataset/world-development-indicators)\n",
    "- [OECD](https://data.oecd.org/)\n",
    "- [Eurostat](https://ec.europa.eu/eurostat/data/database)\n",
    "- [EIA](https://www.eia.gov/outlooks/aeo/data/browser/)\n",
    "- [Enerdata](https://www.enerdata.net/research/)\n",
    "- [BP](https://www.bp.com/en/global/corporate/energy-economics/statistical-review-of-world-energy.html)\n",
    "- [USAID](https://www.usaid.gov/what-we-do/energy/global-energy-database), Single countries only?\n",
    "\n",
    "https://www.usaid.gov/powerafrica/nigeria\n"
   ]
  },
  {
   "attachments": {},
   "cell_type": "markdown",
   "metadata": {},
   "source": [
    "## TODO\n",
    "- DONE: Include continent analysis with country converter coco\n",
    "- Continent `Asia` shows high ror and low hydro in PyPSA-Earth, but low ror and high hydro in IRENA. Why? Technology mismatch?\n",
    "- Include stats on how many of the countries of a specific continent are in the PyPSA-Earth model, to better compare continental data. coco could be helpful here"
   ]
  },
  {
   "attachments": {},
   "cell_type": "markdown",
   "metadata": {},
   "source": [
    "## Questions\n",
    "- Why are there no coal power plants in `stats_merged.csv`?"
   ]
  },
  {
   "attachments": {},
   "cell_type": "markdown",
   "metadata": {},
   "source": [
    "## Preparation"
   ]
  },
  {
   "cell_type": "markdown",
   "metadata": {},
   "source": [
    "### Import packages"
   ]
  },
  {
   "cell_type": "code",
   "execution_count": null,
   "metadata": {},
   "outputs": [],
   "source": [
    "import logging\n",
    "import os\n",
    "import sys\n",
    "\n",
    "import pypsa\n",
    "import numpy as np\n",
    "import matplotlib.pyplot as plt\n",
    "import pandas as pd\n",
    "import country_converter as coco\n",
    "\n",
    "logger = logging.getLogger(__name__)\n",
    "\n",
    "pd.set_option(\"display.max_columns\", None)\n",
    "pd.set_option(\"display.max_colwidth\", 70)"
   ]
  },
  {
   "cell_type": "markdown",
   "metadata": {},
   "source": [
    "### Set main directory to root folder"
   ]
  },
  {
   "cell_type": "code",
   "execution_count": null,
   "metadata": {},
   "outputs": [],
   "source": [
    "# change current directory\n",
    "module_path = os.path.abspath(os.path.join('../../../')) # To import helpers\n",
    "\n",
    "if module_path not in sys.path:\n",
    "    sys.path.append(module_path+\"/pypsa-earth/scripts\")\n",
    "    \n",
    "from _helpers import sets_path_to_root, country_name_2_two_digits, two_digits_2_name_country\n",
    "\n",
    "sets_path_to_root(\"documentation\")"
   ]
  },
  {
   "attachments": {},
   "cell_type": "markdown",
   "metadata": {},
   "source": [
    "### Load stats data (obtained from pypsa-earth)"
   ]
  },
  {
   "cell_type": "code",
   "execution_count": null,
   "metadata": {},
   "outputs": [],
   "source": [
    "# Read it with multilevel column names. #TODO are multilevel column names necessary?\n",
    "stats = pd.read_csv(\"notebooks/validation/temp_stats_csv/stats_merged.csv\", index_col=0, header=[0,1])"
   ]
  },
  {
   "cell_type": "code",
   "execution_count": null,
   "metadata": {},
   "outputs": [],
   "source": [
    "# Add continent at the beginning of the dataframe\n",
    "#stats.insert(0, \"continent\", coco.convert(names = stats.index, src = 'ISO2', to = 'continent'))"
   ]
  },
  {
   "cell_type": "markdown",
   "metadata": {},
   "source": [
    "### Load public data"
   ]
  },
  {
   "cell_type": "code",
   "execution_count": null,
   "metadata": {},
   "outputs": [],
   "source": [
    "EXAMPLE_URL=\"https://pxweb.irena.org/pxweb/en/IRENASTAT/IRENASTAT__Power%20Capacity%20and%20Generation/ELECCAP_2022_cycle2.px/\""
   ]
  },
  {
   "cell_type": "code",
   "execution_count": null,
   "metadata": {},
   "outputs": [],
   "source": [
    "# Read the data \"https://pxweb.irena.org/pxweb/en/IRENASTAT/IRENASTAT__Power%20Capacity%20and%20Generation/ELECCAP_2022_cycle2.px/\"\n",
    "# TODO can we download the data directly?\n",
    "irena_eleccap = pd.read_csv(\"notebooks/validation/temp_irena/ELECCAP_20230314-165057.csv\", encoding=\"latin-1\", skiprows=2)\n",
    "\n",
    "# Replace \"..\" in the dataframe with NaN\n",
    "irena_eleccap = irena_eleccap.replace(\"..\", np.nan)\n",
    "\n",
    "# Change dtype of column \"Installed electricity capacity by country/area (MW)\" to float\n",
    "irena_eleccap[\"Installed electricity capacity by country/area (MW)\"] = irena_eleccap[\"Installed electricity capacity by country/area (MW)\"].astype(float)"
   ]
  },
  {
   "cell_type": "code",
   "execution_count": null,
   "metadata": {},
   "outputs": [],
   "source": [
    "# Combine ongrid and offgrid\n",
    "irena_eleccap = irena_eleccap.groupby([\"Country/area\", \"Year\", \"Technology\"]).sum(numeric_only=True).reset_index() #\"Technology\", \"Installed electricity capacity by country/area (MW)\"\n",
    "\n",
    "# Delete the column \"Year\" since it is not needed anymore\n",
    "irena_eleccap = irena_eleccap.drop(columns=[\"Year\"])"
   ]
  },
  {
   "cell_type": "code",
   "execution_count": null,
   "metadata": {},
   "outputs": [],
   "source": [
    "# Check data for a single country\n",
    "irena_eleccap[irena_eleccap[\"Country/area\"] == \"Germany\"].head(5)"
   ]
  },
  {
   "attachments": {},
   "cell_type": "markdown",
   "metadata": {},
   "source": [
    "## Validation"
   ]
  },
  {
   "attachments": {},
   "cell_type": "markdown",
   "metadata": {},
   "source": [
    "### Installed capacity by technology"
   ]
  },
  {
   "cell_type": "code",
   "execution_count": null,
   "metadata": {},
   "outputs": [],
   "source": [
    "# Define the technologies which should be compared\n",
    "techs = [\"CCGT\", \"OCGT\", \"nuclear\", \"oil\", \"onwind\", \"ror\", \"solar\", \"hydro\"]"
   ]
  },
  {
   "cell_type": "code",
   "execution_count": null,
   "metadata": {},
   "outputs": [],
   "source": [
    "# Select rule \"add_electricity\" and their techs \n",
    "stats_capacities = stats[\"add_electricity\"].loc[:, (techs)]"
   ]
  },
  {
   "cell_type": "code",
   "execution_count": null,
   "metadata": {},
   "outputs": [],
   "source": [
    "# Add continent at the beginning of the dataframe\n",
    "stats_capacities.insert(0, \"continent\", coco.convert(names = stats_capacities.index, src = 'ISO2', to = 'continent'))"
   ]
  },
  {
   "cell_type": "code",
   "execution_count": null,
   "metadata": {},
   "outputs": [],
   "source": [
    "# Replace NaN with zeros\n",
    "stats_capacities = stats_capacities.fillna(0)"
   ]
  },
  {
   "cell_type": "code",
   "execution_count": null,
   "metadata": {},
   "outputs": [],
   "source": [
    "# Combine CCGT and OCGT to \"gas\"\n",
    "stats_capacities[\"gas\"] = stats_capacities[\"CCGT\"] + stats_capacities[\"OCGT\"]\n",
    "del stats_capacities[\"CCGT\"] \n",
    "del stats_capacities[\"OCGT\"] # TODO write in one line"
   ]
  },
  {
   "cell_type": "code",
   "execution_count": null,
   "metadata": {},
   "outputs": [],
   "source": [
    "stats_capacities.head()"
   ]
  },
  {
   "attachments": {},
   "cell_type": "markdown",
   "metadata": {},
   "source": [
    "#### Uniform technology names and dataframe structure"
   ]
  },
  {
   "cell_type": "code",
   "execution_count": null,
   "metadata": {},
   "outputs": [],
   "source": [
    "# Create dict to match the technology names of stats_capacities and irena eleccap\n",
    "names = {\"Solar photovoltaic\": \"solar\",\n",
    "        \"Onshore wind energy\": \"onwind\",\n",
    "        #\"Offshore wind energy\": \"offwind\",\n",
    "        \"Renewable hydropower\": \"hydro\",\n",
    "        \"Nuclear\": \"nuclear\",\n",
    "        \"Oil\": \"oil\",\n",
    "        \"Natural gas\": \"gas\",\n",
    "        \"Mixed Hydro Plants\": \"ror\", # TODO Is this correct? Check IRENA    \n",
    "        }"
   ]
  },
  {
   "cell_type": "code",
   "execution_count": null,
   "metadata": {},
   "outputs": [],
   "source": [
    "# Rename the technologies in irena_eleccap to match the names in stats_capacities using the dict names\n",
    "irena_eleccap[\"Technology\"] = irena_eleccap[\"Technology\"].replace(names)"
   ]
  },
  {
   "cell_type": "code",
   "execution_count": null,
   "metadata": {},
   "outputs": [],
   "source": [
    "# Transform technologies to columns and have the countries as index\n",
    "irena_eleccap = irena_eleccap.pivot_table(index=[\"Country/area\"], columns=\"Technology\", values=\"Installed electricity capacity by country/area (MW)\")\n",
    "# Reset name of columns\n",
    "irena_eleccap.columns.name = None"
   ]
  },
  {
   "cell_type": "code",
   "execution_count": null,
   "metadata": {},
   "outputs": [],
   "source": [
    "# Change the index of irena_eleccap to two digit country name using the function country_name_2_two_digits()\n",
    "irena_eleccap.index = irena_eleccap.index.map(country_name_2_two_digits)"
   ]
  },
  {
   "cell_type": "code",
   "execution_count": null,
   "metadata": {},
   "outputs": [],
   "source": [
    "# Add continent at the beginning of the dataframe\n",
    "irena_eleccap.insert(0, \"continent\", coco.convert(names = irena_eleccap.index, src = 'ISO2', to = 'continent'))"
   ]
  },
  {
   "cell_type": "code",
   "execution_count": null,
   "metadata": {},
   "outputs": [],
   "source": [
    "# Merge the two dataframes\n",
    "# merged = pd.merge(stats_capacities, irena_eleccap, left_index=True, right_index=True)"
   ]
  },
  {
   "attachments": {},
   "cell_type": "markdown",
   "metadata": {},
   "source": [
    "#### Plot country comparison"
   ]
  },
  {
   "cell_type": "code",
   "execution_count": null,
   "metadata": {},
   "outputs": [],
   "source": [
    "def plot_barplot(data_stats, data_irena, area):\n",
    "    # Plot a barplot to compare the technologies of the two dataframes irena_eleccap and stats_capacities\n",
    "\n",
    "    # Get the index values\n",
    "    index = np.arange(len(data_stats))\n",
    "    barWidth = 0.4\n",
    "\n",
    "    # Create a barplot\n",
    "    plt.figure(figsize=(6, 4))\n",
    "    plt.bar(index - barWidth/2, data_stats/1e3, color=['g'], alpha=1, edgecolor='white', width=barWidth) # convert from MW to GW\n",
    "    plt.bar(index + barWidth/2, data_irena/1e3, color=['g'], alpha=0.3, edgecolor='white', width=barWidth) # convert from MW to GW\n",
    "\n",
    "    # Enhance graph\n",
    "    plt.xticks(index, data_stats.index)\n",
    "    plt.ylabel(\"Capacity in GW\")\n",
    "    plt.legend([\"PyPSA-Earth\", \"IRENA\"], loc='upper left', bbox_to_anchor=(1,1), ncol=1)\n",
    "    plt.grid(axis='y', alpha=0.5)\n",
    "    plt.title(f\"Electric capacity in {area}\")\n",
    "\n",
    "    # Show graphic & save it\n",
    "    plt.show()\n",
    "    #plt.savefig(\"file\", bbox_inches='tight') # TODO add save path\n",
    "    \n",
    "    return"
   ]
  },
  {
   "cell_type": "code",
   "execution_count": null,
   "metadata": {},
   "outputs": [],
   "source": [
    "def is_country_or_continent(area_name):\n",
    "\n",
    "    # Check if the area name is a valid ISO-3166 country code\n",
    "\n",
    "    area_name = coco.convert(names=area_name, to='name_short')\n",
    "    if area_name != \"not found\":\n",
    "        return \"country\"\n",
    "    else:\n",
    "        return \"continent\" # TODO all invalid names are continents, this should be improved\n"
   ]
  },
  {
   "cell_type": "code",
   "execution_count": null,
   "metadata": {},
   "outputs": [],
   "source": [
    "def data_selection(area, stats_capacities, irena_eleccap):\n",
    "\n",
    "    _stats_capacities = stats_capacities.copy()\n",
    "    _irena_eleccap = irena_eleccap.copy()\n",
    "\n",
    "    if is_country_or_continent(area) == \"continent\":\n",
    "\n",
    "        # Group the data by continent if area is \"continent\"\n",
    "        _irena_eleccap = _irena_eleccap.groupby(\"continent\").sum()\n",
    "        _stats_capacities = _stats_capacities.groupby(\"continent\").sum()\n",
    "\n",
    "    elif is_country_or_continent(area) == \"country\":\n",
    "        try:\n",
    "            _irena_eleccap.drop(columns=[\"continent\"], inplace=True)\n",
    "            _stats_capacities.drop(columns=[\"continent\"], inplace=True)\n",
    "        except:\n",
    "            pass\n",
    "\n",
    "    # Select the data for the area\n",
    "    data_irena = _irena_eleccap.loc[area][_stats_capacities.loc[area].index]\n",
    "    data_stats = _stats_capacities.loc[area]\n",
    "\n",
    "    return data_stats, data_irena"
   ]
  },
  {
   "attachments": {},
   "cell_type": "markdown",
   "metadata": {},
   "source": [
    "### Plot comparison (both country or continent possible)"
   ]
  },
  {
   "cell_type": "code",
   "execution_count": null,
   "metadata": {},
   "outputs": [],
   "source": [
    "\n",
    "area = \"Asia\"\n",
    "data_stats, data_irena = data_selection(area, stats_capacities, irena_eleccap)\n",
    "plot_barplot(data_stats, data_irena, area)"
   ]
  },
  {
   "attachments": {},
   "cell_type": "markdown",
   "metadata": {},
   "source": [
    "### Demand"
   ]
  }
 ],
 "metadata": {
  "kernelspec": {
   "display_name": "pypsa-earth",
   "language": "python",
   "name": "python3"
  },
  "language_info": {
   "codemirror_mode": {
    "name": "ipython",
    "version": 3
   },
   "file_extension": ".py",
   "mimetype": "text/x-python",
   "name": "python",
   "nbconvert_exporter": "python",
   "pygments_lexer": "ipython3",
   "version": "3.10.9"
  },
  "orig_nbformat": 4
 },
 "nbformat": 4,
 "nbformat_minor": 2
}
