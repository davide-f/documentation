{
 "cells": [
  {
   "cell_type": "markdown",
   "metadata": {},
   "source": [
    "# Validation of the PyPSA-Earth stats\n",
    "\n",
    "## Description\n",
    "This task aims to develop such notebook that:\n",
    "- takes as input the files from folders from pypsa-earth: `results/{scenarios}/stats.csv` (see PR Create statistics #579). In the meantime, data is loaded from `notebooks/validation/temp_stats_csv/stats_merged.csv`\n",
    "- loads open data on power systems across the world\n",
    "- Creates plots to perform the validation\n",
    "Plots and tables shall have different aggregation levels (e.g. demand for a continent)\n",
    "\n",
    "Create statistics for:\n",
    "- demand\n",
    "- installed capacity by technology\n",
    "- renewable sources\n",
    "- network characteristics (length of lines for example)\n",
    "\n",
    "Plots:\n",
    "- Compare the statistics of the PyPSA-Earth model with open data\n",
    "\n",
    "## Public data sources collection\n",
    "These sources could be helpful:\n",
    "- [ENTSO-E](https://transparency.entsoe.eu/generation/r2/installedGenerationCapacityAggregation/show)\n",
    "- [IRENA](https://www.irena.org/data-and-statistics), not working\n",
    "- [IEA](https://www.iea.org/data-and-statistics)\n",
    "- [WEC](https://www.worldenergy.org/statistics/), not working\n",
    "- [WRI](https://www.wri.org/resources/data-sets)\n",
    "- [UN](https://unstats.un.org/unsd/snaama/)\n",
    "- [WBG](https://datacatalog.worldbank.org/dataset/world-development-indicators)\n",
    "- [OECD](https://data.oecd.org/)\n",
    "- [Eurostat](https://ec.europa.eu/eurostat/data/database)\n",
    "- [EIA](https://www.eia.gov/outlooks/aeo/data/browser/)\n",
    "- [Enerdata](https://www.enerdata.net/research/)\n",
    "- [BP](https://www.bp.com/en/global/corporate/energy-economics/statistical-review-of-world-energy.html)\n",
    "- [USAID](https://www.usaid.gov/what-we-do/energy/global-energy-database), Single countries only?\n",
    "\n",
    "https://www.usaid.gov/powerafrica/nigeria\n"
   ]
  },
  {
   "attachments": {},
   "cell_type": "markdown",
   "metadata": {},
   "source": [
    "## Preparation"
   ]
  },
  {
   "cell_type": "markdown",
   "metadata": {},
   "source": [
    "### Import packages"
   ]
  },
  {
   "cell_type": "code",
   "execution_count": null,
   "metadata": {},
   "outputs": [],
   "source": [
    "import logging\n",
    "import os\n",
    "import sys\n",
    "\n",
    "import pypsa\n",
    "import numpy as np\n",
    "import matplotlib.pyplot as plt\n",
    "import pandas as pd\n",
    "\n",
    "logger = logging.getLogger(__name__)\n",
    "\n",
    "pd.set_option(\"display.max_columns\", None)\n",
    "pd.set_option(\"display.max_colwidth\", 70)"
   ]
  },
  {
   "cell_type": "markdown",
   "metadata": {},
   "source": [
    "### Set main directory to root folder"
   ]
  },
  {
   "cell_type": "code",
   "execution_count": null,
   "metadata": {},
   "outputs": [],
   "source": [
    "# change current directory\n",
    "module_path = os.path.abspath(os.path.join('../../../')) # To import helpers\n",
    "\n",
    "if module_path not in sys.path:\n",
    "    sys.path.append(module_path+\"/pypsa-earth/scripts\")\n",
    "    \n",
    "from _helpers import sets_path_to_root, country_name_2_two_digits, two_digits_2_name_country\n",
    "\n",
    "sets_path_to_root(\"documentation\")"
   ]
  },
  {
   "attachments": {},
   "cell_type": "markdown",
   "metadata": {},
   "source": [
    "### Load stats data (obtained from pypsa-earth)"
   ]
  },
  {
   "cell_type": "code",
   "execution_count": null,
   "metadata": {},
   "outputs": [],
   "source": [
    "# Read it with multilevel column names. #TODO are multilevel column names necessary?\n",
    "stats_merged = pd.read_csv(\"notebooks/validation/temp_stats_csv/stats_merged.csv\", index_col=0, header=[0,1])"
   ]
  },
  {
   "cell_type": "code",
   "execution_count": null,
   "metadata": {},
   "outputs": [],
   "source": [
    "stats_merged.head()"
   ]
  },
  {
   "cell_type": "markdown",
   "metadata": {},
   "source": [
    "### Load public data"
   ]
  },
  {
   "cell_type": "code",
   "execution_count": null,
   "metadata": {},
   "outputs": [],
   "source": [
    "EXAMPLE_URL=\"https://pxweb.irena.org/pxweb/en/IRENASTAT/IRENASTAT__Power%20Capacity%20and%20Generation/ELECCAP_2022_cycle2.px/\""
   ]
  },
  {
   "cell_type": "code",
   "execution_count": null,
   "metadata": {},
   "outputs": [],
   "source": [
    "irena_eleccap = pd.read_csv(\"notebooks/validation/temp_irena/ELECCAP_20230314-165057.csv\", encoding=\"latin-1\", skiprows=2)"
   ]
  },
  {
   "cell_type": "code",
   "execution_count": null,
   "metadata": {},
   "outputs": [],
   "source": [
    "irena_eleccap.head()"
   ]
  },
  {
   "cell_type": "code",
   "execution_count": null,
   "metadata": {},
   "outputs": [],
   "source": [
    "# Check data for a single country\n",
    "irena_eleccap[irena_eleccap[\"Country/area\"] == \"Germany\"].head()"
   ]
  },
  {
   "attachments": {},
   "cell_type": "markdown",
   "metadata": {},
   "source": [
    "## Validation"
   ]
  },
  {
   "attachments": {},
   "cell_type": "markdown",
   "metadata": {},
   "source": [
    "### Installed capacity by technology"
   ]
  },
  {
   "attachments": {},
   "cell_type": "markdown",
   "metadata": {},
   "source": [
    "### Demand"
   ]
  }
 ],
 "metadata": {
  "kernelspec": {
   "display_name": "pypsa-earth",
   "language": "python",
   "name": "python3"
  },
  "language_info": {
   "codemirror_mode": {
    "name": "ipython",
    "version": 3
   },
   "file_extension": ".py",
   "mimetype": "text/x-python",
   "name": "python",
   "nbconvert_exporter": "python",
   "pygments_lexer": "ipython3",
   "version": "3.10.9"
  },
  "orig_nbformat": 4
 },
 "nbformat": 4,
 "nbformat_minor": 2
}
