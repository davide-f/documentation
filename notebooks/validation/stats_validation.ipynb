{
 "cells": [
  {
   "attachments": {},
   "cell_type": "markdown",
   "metadata": {},
   "source": [
    "# Validation of the PyPSA-Earth stats\n",
    "\n",
    "## Description\n",
    "This task aims to develop such notebook that:\n",
    "- takes as input the files from folders from pypsa-earth: `results/{scenarios}/stats.csv` (see PR Create statistics #579). In the meantime, data is loaded from `notebooks/validation/temp_stats_csv/stats_merged_20_3_23.csv`\n",
    "- loads open data on power systems across the world\n",
    "- Creates plots to perform the validation\n",
    "Plots and tables shall have different aggregation levels (e.g. demand for a continent)\n",
    "\n",
    "Create statistics for:\n",
    "- demand (See `demand_validation.ipynb`)\n",
    "- installed capacity by technology (compare with: IRENA, ...)\n",
    "- renewable sources  (compare with: IRENA, ...)\n",
    "- network characteristics (length of lines for example, https://wiki.openmod-initiative.org/wiki/Transmission_network_datasets)\n",
    "\n",
    "Plots:\n",
    "- Compare the statistics of the PyPSA-Earth model with open data\n",
    "\n",
    "## Public data sources collection\n",
    "These sources could be helpful:\n",
    "- [ENTSO-E](https://transparency.entsoe.eu/generation/r2/installedGenerationCapacityAggregation/show)\n",
    "- [IRENA](https://www.irena.org/data-and-statistics), not working\n",
    "- [IEA](https://www.iea.org/data-and-statistics)\n",
    "    - Electricity demand: https://www.iea.org/data-and-statistics/data-product/world-energy-balances-highlights\n",
    "- [WEC](https://www.worldenergy.org/statistics/), not working\n",
    "- [WRI](https://www.wri.org/resources/data-sets)\n",
    "- [UN](https://unstats.un.org/unsd/snaama/)\n",
    "- [WBG](https://datacatalog.worldbank.org/dataset/world-development-indicators)\n",
    "- [OECD](https://data.oecd.org/)\n",
    "- [Eurostat](https://ec.europa.eu/eurostat/data/database)\n",
    "- [EIA](https://www.eia.gov/outlooks/aeo/data/browser/)\n",
    "- [Enerdata](https://www.enerdata.net/research/)\n",
    "- [BP](https://www.bp.com/en/global/corporate/energy-economics/statistical-review-of-world-energy.html)\n",
    "- [USAID](https://www.usaid.gov/what-we-do/energy/global-energy-database), Single countries only?\n",
    "\n",
    "https://www.usaid.gov/powerafrica/nigeria\n"
   ]
  },
  {
   "attachments": {},
   "cell_type": "markdown",
   "metadata": {},
   "source": [
    "## TODO\n",
    "- DONE: Include continent analysis with country converter coco\n",
    "- DONE: Continent `Asia` shows high ror and low hydro in PyPSA-Earth, but low ror and high hydro in IRENA. Why? Technology mismatch?\n",
    "- Include stats on how many of the countries of a specific continent are in the PyPSA-Earth model, to better compare continental data. coco could be helpful here. Is this necessary?\n",
    "- Fossil fuels as oil, gas, coal are often summed up as 'Fossil fuels n.e.s' in Europe which means 'not elsewhere specified' in IRENA data. How to deal with this?"
   ]
  },
  {
   "attachments": {},
   "cell_type": "markdown",
   "metadata": {},
   "source": [
    "## Questions\n",
    "- "
   ]
  },
  {
   "attachments": {},
   "cell_type": "markdown",
   "metadata": {},
   "source": [
    "## Preparation"
   ]
  },
  {
   "attachments": {},
   "cell_type": "markdown",
   "metadata": {},
   "source": [
    "### Import packages"
   ]
  },
  {
   "cell_type": "code",
   "execution_count": null,
   "metadata": {},
   "outputs": [],
   "source": [
    "import logging\n",
    "import os\n",
    "import sys\n",
    "\n",
    "import pypsa\n",
    "import numpy as np\n",
    "import matplotlib.pyplot as plt\n",
    "import pandas as pd\n",
    "import country_converter as coco\n",
    "import geopandas as gpd\n",
    "import matplotlib\n",
    "\n",
    "logger = logging.getLogger(__name__)\n",
    "\n",
    "pd.set_option(\"display.max_columns\", None)\n",
    "pd.set_option(\"display.max_colwidth\", 70)"
   ]
  },
  {
   "cell_type": "code",
   "execution_count": null,
   "metadata": {},
   "outputs": [],
   "source": [
    "nice_names = {\n",
    "    \"nuclear\": \"Nuclear\",\n",
    "    \"oil\": \"Oil\",\n",
    "    \"onwind\": \"Onshore wind\",\n",
    "    #\"ror\": \"Run of river\",\n",
    "    \"solar\": \"Solar PV\",\n",
    "    \"hydro\": \"Hydro\",\n",
    "    \"gas\": \"Gas\",\n",
    "    \"coal_and_lignite\": \"Coal\",\n",
    "}"
   ]
  },
  {
   "attachments": {},
   "cell_type": "markdown",
   "metadata": {},
   "source": [
    "### Set main directory to root folder"
   ]
  },
  {
   "cell_type": "code",
   "execution_count": null,
   "metadata": {},
   "outputs": [],
   "source": [
    "# change current directory\n",
    "module_path = os.path.abspath(os.path.join('../../../')) # To import helpers\n",
    "\n",
    "if module_path not in sys.path:\n",
    "    sys.path.append(module_path+\"/pypsa-earth/scripts\")\n",
    "    \n",
    "from _helpers import sets_path_to_root, country_name_2_two_digits, two_digits_2_name_country\n",
    "\n",
    "sets_path_to_root(\"documentation\")"
   ]
  },
  {
   "attachments": {},
   "cell_type": "markdown",
   "metadata": {},
   "source": [
    "### Load stats data (obtained from pypsa-earth)"
   ]
  },
  {
   "cell_type": "code",
   "execution_count": null,
   "metadata": {},
   "outputs": [],
   "source": [
    "# Read it with multilevel column names. Make sure that the country index \"NA\" is not recognized as NaN\n",
    "stats = pd.read_csv(\"/data/davidef/gitsegan/documentation/stats_merged.csv\", index_col=0, header=[0,1], keep_default_na=False, na_values=\"\")"
   ]
  },
  {
   "cell_type": "code",
   "execution_count": null,
   "metadata": {},
   "outputs": [],
   "source": [
    "stats.loc[\"US\", stats.columns.get_level_values(1)==\"total_time\"]/3600"
   ]
  },
  {
   "attachments": {},
   "cell_type": "markdown",
   "metadata": {},
   "source": [
    "### Load public data"
   ]
  },
  {
   "cell_type": "code",
   "execution_count": null,
   "metadata": {},
   "outputs": [],
   "source": [
    "EXAMPLE_URL=\"https://pxweb.irena.org/pxweb/en/IRENASTAT/IRENASTAT__Power%20Capacity%20and%20Generation/ELECCAP_2024_cycle2.px/\""
   ]
  },
  {
   "cell_type": "code",
   "execution_count": null,
   "metadata": {},
   "outputs": [],
   "source": [
    "# Read the data \"https://pxweb.irena.org/pxweb/en/IRENASTAT/IRENASTAT__Power%20Capacity%20and%20Generation/ELECCAP_2022_cycle2.px/\"\n",
    "# TODO can we download the data directly?\n",
    "irena_eleccap = pd.read_csv(\"notebooks/validation/temp_irena/ELECCAP_20230314-165057.csv\", encoding=\"latin-1\", skiprows=2)\n",
    "\n",
    "# Replace \"..\" in the dataframe with NaN\n",
    "irena_eleccap = irena_eleccap.replace(\"..\", np.nan)\n",
    "\n",
    "# Change dtype of column \"Installed electricity capacity by country/area (MW)\" to float\n",
    "irena_eleccap[\"Installed electricity capacity by country/area (MW)\"] = irena_eleccap[\"Installed electricity capacity by country/area (MW)\"].astype(float)"
   ]
  },
  {
   "cell_type": "code",
   "execution_count": null,
   "metadata": {},
   "outputs": [],
   "source": [
    "# Combine ongrid and offgrid\n",
    "irena_eleccap = irena_eleccap.groupby([\"Country/area\", \"Year\", \"Technology\"]).sum(numeric_only=True).reset_index() #\"Technology\", \"Installed electricity capacity by country/area (MW)\"\n",
    "\n",
    "# Delete the column \"Year\" since it is not needed anymore\n",
    "irena_eleccap = irena_eleccap.drop(columns=[\"Year\"])"
   ]
  },
  {
   "cell_type": "code",
   "execution_count": null,
   "metadata": {},
   "outputs": [],
   "source": [
    "# Check data for a single country\n",
    "irena_eleccap[irena_eleccap[\"Country/area\"] == \"Germany\"].head(5)"
   ]
  },
  {
   "attachments": {},
   "cell_type": "markdown",
   "metadata": {},
   "source": [
    "## Validation"
   ]
  },
  {
   "attachments": {},
   "cell_type": "markdown",
   "metadata": {},
   "source": [
    "### Installed capacity by technology"
   ]
  },
  {
   "cell_type": "code",
   "execution_count": null,
   "metadata": {},
   "outputs": [],
   "source": [
    "# Define the technologies which should be compared\n",
    "techs = [\"CCGT\", \"OCGT\", \"nuclear\", \"onwind\", \"solar\", \"ror\",  \"hydro\", \"oil\", \"coal\", \"lignite\"]\n",
    "\n",
    "# Select rule \"add_electricity\" and their techs \n",
    "stats_capacities = stats[\"add_electricity\"].loc[:, (techs)]\n",
    "\n",
    "# Add continent at the beginning of the dataframe\n",
    "stats_capacities.insert(0, \"continent\", coco.convert(names = stats_capacities.index, src = 'ISO2', to = 'continent'))\n",
    "\n",
    "# Replace NaN with zeros\n",
    "stats_capacities = stats_capacities.fillna(0)"
   ]
  },
  {
   "cell_type": "code",
   "execution_count": null,
   "metadata": {},
   "outputs": [],
   "source": [
    "# Combine CCGT and OCGT to \"gas\"\n",
    "stats_capacities[\"gas\"] = stats_capacities[\"CCGT\"] + stats_capacities[\"OCGT\"]\n",
    "stats_capacities[\"coal_and_lignite\"] = stats_capacities[\"coal\"] + stats_capacities[\"lignite\"]\n",
    "stats_capacities[\"hydro\"] = stats_capacities[\"ror\"] + stats_capacities[\"hydro\"]\n",
    "del stats_capacities[\"CCGT\"] \n",
    "del stats_capacities[\"OCGT\"] # TODO write in one line\n",
    "del stats_capacities[\"coal\"] \n",
    "del stats_capacities[\"lignite\"]\n",
    "del stats_capacities[\"ror\"]"
   ]
  },
  {
   "cell_type": "code",
   "execution_count": null,
   "metadata": {},
   "outputs": [],
   "source": [
    "# Rename to nice plotting names\n",
    "stats_capacities.rename(columns=nice_names, inplace=True)"
   ]
  },
  {
   "cell_type": "code",
   "execution_count": null,
   "metadata": {},
   "outputs": [],
   "source": [
    "# Add a empty column \"Fossil fuels n.e.s\"\n",
    "stats_capacities[\"Fossil fuels n.e.s.\"] = 0"
   ]
  },
  {
   "cell_type": "code",
   "execution_count": null,
   "metadata": {},
   "outputs": [],
   "source": [
    "stats_capacities.head()"
   ]
  },
  {
   "attachments": {},
   "cell_type": "markdown",
   "metadata": {},
   "source": [
    "#### Uniform technology names and dataframe structure"
   ]
  },
  {
   "cell_type": "code",
   "execution_count": null,
   "metadata": {},
   "outputs": [],
   "source": [
    "# Create dict to match the technology names of stats_capacities and irena eleccap\n",
    "uniform_names = {\"Solar photovoltaic\": \"solar\",\n",
    "        \"Onshore wind energy\": \"onwind\",\n",
    "        #\"Offshore wind energy\": \"offwind\",\n",
    "        \"Renewable hydropower\": \"hydro\",\n",
    "        \"Nuclear\": \"nuclear\",\n",
    "        \"Oil\": \"oil\",\n",
    "        \"Natural gas\": \"gas\",\n",
    "        \"Mixed Hydro Plants\": \"ror\", # TODO Is this correct? Check IRENA    \n",
    "        \"Coal and peat\": \"coal_and_lignite\",\n",
    "        }"
   ]
  },
  {
   "cell_type": "code",
   "execution_count": null,
   "metadata": {},
   "outputs": [],
   "source": [
    "# Rename the technologies in irena_eleccap to match the names in stats_capacities using the dict names\n",
    "irena_eleccap[\"Technology\"] = irena_eleccap[\"Technology\"].replace(uniform_names)\n",
    "\n",
    "# Transform technologies to columns and have the countries as index\n",
    "irena_eleccap = irena_eleccap.pivot_table(index=[\"Country/area\"], columns=\"Technology\", values=\"Installed electricity capacity by country/area (MW)\")\n",
    "# Reset name of columns\n",
    "irena_eleccap.columns.name = None\n",
    "\n",
    "# Combine the columns ror and hydro and name them hydro\n",
    "irena_eleccap[\"hydro\"] = irena_eleccap[\"ror\"] + irena_eleccap[\"hydro\"]\n",
    "del irena_eleccap[\"ror\"]"
   ]
  },
  {
   "cell_type": "code",
   "execution_count": null,
   "metadata": {},
   "outputs": [],
   "source": [
    "# Change the index of irena_eleccap to two digit country name using the function country_name_2_two_digits()\n",
    "irena_eleccap.index = irena_eleccap.index.map(country_name_2_two_digits)"
   ]
  },
  {
   "cell_type": "code",
   "execution_count": null,
   "metadata": {},
   "outputs": [],
   "source": [
    "# Add continent at the beginning of the dataframe\n",
    "irena_eleccap.insert(0, \"continent\", coco.convert(names = irena_eleccap.index, src = 'ISO2', to = 'continent'))\n",
    "\n",
    "# Rename to nice plotting names\n",
    "irena_eleccap.rename(columns=nice_names, inplace=True)"
   ]
  },
  {
   "attachments": {},
   "cell_type": "markdown",
   "metadata": {},
   "source": [
    "#### Plot country comparison"
   ]
  },
  {
   "cell_type": "code",
   "execution_count": null,
   "metadata": {},
   "outputs": [],
   "source": [
    "def plot_barplot(data_stats, data_irena, area, title=False):\n",
    "    # Plot a barplot to compare the technologies of the two dataframes irena_eleccap and stats_capacities\n",
    "\n",
    "    # Get the index values\n",
    "    index = np.arange(len(data_stats))\n",
    "    barWidth = 0.3\n",
    "\n",
    "    # Create a barplot\n",
    "    plt.figure(figsize=(6, 3))\n",
    "    plt.bar(index - barWidth/2, data_stats/1e3, color=['g'], alpha=1, edgecolor='white', width=barWidth) # convert from MW to GW\n",
    "    plt.bar(index + barWidth/2, data_irena/1e3, color=['g'], alpha=0.3, edgecolor='white', width=barWidth) # convert from MW to GW\n",
    "\n",
    "    # Enhance graph\n",
    "    plt.xticks(index, data_stats.index)\n",
    "    plt.ylabel(\"Capacity in GW\")\n",
    "    plt.legend([\"PyPSA-Earth 2024\", \"IRENA 2022\"], loc='upper left', ncol=1)\n",
    "\n",
    "    plt.grid(axis='y', alpha=0.5)\n",
    "    if title == True:\n",
    "        if area == \"Global\":\n",
    "            plt.title(f\"Electric capacity ({area})\")\n",
    "        else:\n",
    "            plt.title(f\"Electric capacity in {area}\")\n",
    "\n",
    "    # Show graphic & save it\n",
    "    plt.savefig(f\"notebooks/validation/temp_results/el_cap_{area}.pdf\", bbox_inches='tight') # TODO add save path\n",
    "    plt.show()\n",
    "    \n",
    "    return"
   ]
  },
  {
   "cell_type": "code",
   "execution_count": null,
   "metadata": {},
   "outputs": [],
   "source": [
    "def is_country_or_continent(area_name):\n",
    "\n",
    "    # Check if the area name is a valid ISO-3166 country code\n",
    "\n",
    "    area_name = coco.convert(names=area_name, to='name_short')\n",
    "    if area_name != \"not found\":\n",
    "        return \"country\"\n",
    "    else:\n",
    "        return \"continent\" # TODO all invalid names are continents, this should be improved\n"
   ]
  },
  {
   "cell_type": "code",
   "execution_count": null,
   "metadata": {},
   "outputs": [],
   "source": [
    "def area_selection(area, stats_capacities, irena_eleccap, group_fossils=False):\n",
    "\n",
    "    _stats_capacities = stats_capacities.copy()\n",
    "    _irena_eleccap = irena_eleccap.copy()\n",
    "\n",
    "    if area == \"Global\":\n",
    "        _stats_capacities = _stats_capacities.sum(axis=0).to_frame().T #.rename(columns={\"continent\": \"PyPSA-Earth\"})\n",
    "        _stats_capacities[\"continent\"] = \"Global\"\n",
    "        _stats_capacities.set_index(\"continent\", inplace=True)\n",
    "\n",
    "        _irena_eleccap = _irena_eleccap.sum(axis=0).to_frame().T #.rename(columns={\"continent\": \"PyPSA-Earth\"})\n",
    "        _irena_eleccap[\"continent\"] = \"Global\"\n",
    "        _irena_eleccap.set_index(\"continent\", inplace=True)\n",
    "\n",
    "    elif area != \"Global\":\n",
    "        if is_country_or_continent(area) == \"continent\":\n",
    "\n",
    "            # Group the data by continent if area is \"continent\"\n",
    "            _irena_eleccap = _irena_eleccap.groupby(\"continent\").sum()\n",
    "            _stats_capacities = _stats_capacities.groupby(\"continent\").sum()\n",
    "\n",
    "        elif is_country_or_continent(area) == \"country\":\n",
    "            try:\n",
    "                _irena_eleccap.drop(columns=[\"continent\"], inplace=True)\n",
    "                _stats_capacities.drop(columns=[\"continent\"], inplace=True)\n",
    "            except:\n",
    "                pass\n",
    "\n",
    "    # Select the data for the area\n",
    "    data_irena = _irena_eleccap.loc[area][_stats_capacities.loc[area].index]\n",
    "    data_stats = _stats_capacities.loc[area]\n",
    "\n",
    "    if group_fossils == True:\n",
    "        data_stats[\"Fossil fuels\"] = data_stats[\"Oil\"] + data_stats[\"Gas\"] + data_stats[\"Coal\"] + data_stats[\"Fossil fuels n.e.s.\"]\n",
    "        data_stats = data_stats.drop([\"Oil\", \"Gas\", \"Coal\", \"Fossil fuels n.e.s.\"])\n",
    "        data_irena[\"Fossil fuels\"] = data_irena[\"Oil\"] + data_irena[\"Gas\"] + data_irena[\"Coal\"] + data_irena[\"Fossil fuels n.e.s.\"]\n",
    "        data_irena = data_irena.drop([\"Oil\", \"Gas\", \"Coal\", \"Fossil fuels n.e.s.\"])\n",
    "\n",
    "    return data_stats, data_irena"
   ]
  },
  {
   "attachments": {},
   "cell_type": "markdown",
   "metadata": {},
   "source": [
    "### Plot comparison (both country or continent possible)"
   ]
  },
  {
   "attachments": {},
   "cell_type": "markdown",
   "metadata": {},
   "source": [
    "Single country, continent, or global"
   ]
  },
  {
   "cell_type": "code",
   "execution_count": null,
   "metadata": {},
   "outputs": [],
   "source": [
    "area = \"Global\"\n",
    "data_stats, data_irena = area_selection(area, stats_capacities, irena_eleccap, group_fossils=True)\n",
    "plot_barplot(data_stats, data_irena, area)"
   ]
  },
  {
   "cell_type": "code",
   "execution_count": null,
   "metadata": {},
   "outputs": [],
   "source": [
    "(data_stats/1000).head(10)"
   ]
  },
  {
   "cell_type": "code",
   "execution_count": null,
   "metadata": {},
   "outputs": [],
   "source": [
    "(data_irena/1000).head(10)"
   ]
  },
  {
   "attachments": {},
   "cell_type": "markdown",
   "metadata": {},
   "source": [
    "All continents"
   ]
  },
  {
   "cell_type": "code",
   "execution_count": null,
   "metadata": {},
   "outputs": [],
   "source": [
    "# Plot and save all continents\n",
    "areas = stats_capacities.continent.unique()\n",
    "areas = areas[areas != \"not found\"]\n",
    "for area in areas:\n",
    "    data_stats, data_irena = area_selection(area, stats_capacities, irena_eleccap, group_fossils=True)\n",
    "    plot_barplot(data_stats, data_irena, area)\n",
    "    if area == \"Europe\":\n",
    "        print(\"Fossil fuels as oil, gas, coal are often summed up as 'Fossil fuels n.e.s' in Europe which means 'not elsewhere specified' in IRENA data.\")"
   ]
  },
  {
   "cell_type": "code",
   "execution_count": null,
   "metadata": {},
   "outputs": [],
   "source": [
    "stats_capacities"
   ]
  },
  {
   "cell_type": "markdown",
   "metadata": {},
   "source": [
    "## plot total by country"
   ]
  },
  {
   "cell_type": "code",
   "execution_count": null,
   "metadata": {},
   "outputs": [],
   "source": [
    "stats_capacities.columns.difference([\"continent\"])"
   ]
  },
  {
   "cell_type": "code",
   "execution_count": null,
   "metadata": {},
   "outputs": [],
   "source": [
    "cap_stats_cols = stats_capacities.columns.difference([\"continent\"])\n",
    "\n",
    "stats_cap_country = gpd.GeoDataFrame(index=stats_capacities.index)\n",
    "stats_cap_country[\"geometry\"] = stats_cap_country.index.map(\n",
    "    lambda country_code: gpd.read_file(\"../pypsa-earth/resources/\" + country_code + \"/shapes/country_shapes.geojson\")[\"geometry\"].iloc[0]\n",
    ")\n",
    "stats_cap_country[\"PyPSA Earth 2024\"] = stats_capacities[cap_stats_cols].sum(axis=1)\n",
    "\n",
    "cap_irena_cols = irena_eleccap.columns.difference([\"continent\"])\n",
    "\n",
    "stats_cap_country[\"IRENA 2022\"] = irena_eleccap[cap_irena_cols].sum(axis=1).fillna(0.001)\n",
    "\n",
    "stats_cap_country[\"ratio\"] = stats_cap_country[\"PyPSA Earth 2024\"] / stats_cap_country[\"IRENA 2022\"]*100\n",
    "stats_cap_country[\"abs_ratio\"] = stats_cap_country[\"ratio\"].abs()\n",
    "\n"
   ]
  },
  {
   "cell_type": "code",
   "execution_count": null,
   "metadata": {},
   "outputs": [],
   "source": [
    "stats_cap_country.loc[\"IT\"]"
   ]
  },
  {
   "cell_type": "code",
   "execution_count": null,
   "metadata": {},
   "outputs": [],
   "source": [
    "plot_col = \"ratio\"\n",
    "k_quantiles = 6\n",
    "\n",
    "min_val = max(1, stats_cap_country[plot_col].min())\n",
    "max_val = min(300., stats_cap_country[plot_col].max())\n",
    "\n",
    "def custom_cmap(x):\n",
    "    if x < 10:  # <10% abs eror\n",
    "        return (0, 1, 0)  # green\n",
    "    if x < 30 :  #\n",
    "        return (0, .5, 0)  # dark green\n",
    "    if x < 50 == True:\n",
    "        return (1, 1, 0)  # yellow\n",
    "    if x < 100:\n",
    "        return (1.0, 0.6, 0)  # orange\n",
    "    return (1, 0, 0)  # red\n",
    "\n",
    "# stats_cap_country[\"color\"] = stats_cap_country[\"abs_difference_pc\"].map(custom_cmap)\n",
    "ax = stats_cap_country.plot(\n",
    "    column=plot_col,\n",
    "    cmap=\"viridis\",\n",
    "    scheme=\"UserDefined\",\n",
    "    k=k_quantiles,\n",
    "    # color=\"color\",\n",
    "    legend=True,\n",
    "    legend_kwds={\n",
    "        \"loc\": 'center left',\n",
    "        \"bbox_to_anchor\": (1, 0.5),\n",
    "    },\n",
    "    figsize=(15, 7),\n",
    "    classification_kwds=dict(bins=[50, 80, 120, 150]),\n",
    "    #norm=matplotlib.colors.LogNorm(vmin=min_val, vmax=max_val),\n",
    ")\n",
    "# ax.legend(loc='center left', bbox_to_anchor=(1, 0.5))\n",
    "# matplotlib.pyplot.tight_layout()\n",
    "# matplotlib.pyplot.show()\n",
    "# Manipulate the legend's label texts\n",
    "# Replace range_text with mid_range as new label texts\n",
    "leg1 = ax.get_legend()\n",
    "labels = [\"\"]\n",
    "for it, eb in enumerate(leg1.get_texts()):\n",
    "    txt = eb.get_text()\n",
    "    low,high = [float(tt) for tt in  txt.split(sep=\",\")]\n",
    "    avg = (low+high)/2        # compute mid-range values\n",
    "    #print(low,high,avg)\n",
    "    if it==0:\n",
    "        eb.set_text(f\"<{high:.0f}%\") # midrange values, 2 deci digits\n",
    "    elif it==len(leg1.get_texts())-1:\n",
    "        eb.set_text(f\">{low:.0f}%\") # midrange values, 2 deci digits\n",
    "    else:\n",
    "        eb.set_text(f\"{low:.0f}-{high:.0f}%\") # midrange values, 2 deci digits\n",
    "    #eb.set_text(f\"\")         # blank-out text\n",
    "\n",
    "ax.set_title(\"IRENA 2022 - PyPSA-Earth 2030 installed capacity ratio in %\")\n",
    "ax.set_axis_off()\n",
    "\n",
    "plt.savefig(f\"notebooks/validation/temp_results/world_cap_map.pdf\", bbox_inches='tight')"
   ]
  },
  {
   "attachments": {},
   "cell_type": "markdown",
   "metadata": {},
   "source": [
    "### Demand"
   ]
  },
  {
   "cell_type": "code",
   "execution_count": null,
   "metadata": {},
   "outputs": [],
   "source": [
    "stats.head()"
   ]
  },
  {
   "cell_type": "code",
   "execution_count": null,
   "metadata": {},
   "outputs": [],
   "source": [
    "# Select rule \"add_electricity\" and their techs \n",
    "stats_demand = stats[\"add_electricity\"].loc[:, \"demand\"]\n",
    "stats_demand_solve = stats[\"solve_network\"].loc[:, \"demand\"]"
   ]
  },
  {
   "cell_type": "code",
   "execution_count": null,
   "metadata": {},
   "outputs": [],
   "source": [
    "# Create a dataframe with the demand of add_electricity and solve_network\n",
    "stats_demand = pd.concat([stats[\"add_electricity\"].loc[:, \"demand\"], stats[\"solve_network\"].loc[:, \"demand\"]], axis=1)\n",
    "stats_demand.columns = [\"demand_add_el\", \"demand_solve\"]"
   ]
  },
  {
   "cell_type": "code",
   "execution_count": null,
   "metadata": {},
   "outputs": [],
   "source": [
    "# Plot a boxplot to compare the difference in percent between the demand in \"stats_demand\" and \"stats_demand_solve\"\n",
    "diff = ((stats_demand[\"demand_solve\"] - stats_demand[\"demand_add_el\"])/stats_demand[\"demand_add_el\"]*100).dropna()\n",
    "plt.figure(figsize=(6, 4))\n",
    "plt.boxplot(diff)\n",
    "plt.ylabel(\"Demand reduction in %\")\n",
    "plt.title(\"Demand reduction from 'add_electricity' to 'solve_network'\")\n",
    "plt.grid(axis='y', alpha=0.5)\n",
    "plt.xticks([1], [\"Countries\"])\n",
    "plt.show()"
   ]
  },
  {
   "cell_type": "code",
   "execution_count": null,
   "metadata": {},
   "outputs": [],
   "source": [
    "diff.describe()"
   ]
  },
  {
   "cell_type": "code",
   "execution_count": null,
   "metadata": {},
   "outputs": [],
   "source": [
    "# Add continent at the beginning of the dataframe\n",
    "stats_demand.insert(0, \"continent\", coco.convert(names = stats_demand.index, src = 'ISO2', to = 'continent'))"
   ]
  },
  {
   "cell_type": "code",
   "execution_count": null,
   "metadata": {},
   "outputs": [],
   "source": [
    "stats_demand.head()"
   ]
  },
  {
   "attachments": {},
   "cell_type": "markdown",
   "metadata": {},
   "source": [
    "OWID"
   ]
  },
  {
   "cell_type": "code",
   "execution_count": null,
   "metadata": {},
   "outputs": [],
   "source": [
    "# Source: https://ourworldindata.org/grapher/electricity-demand?time=2022&country=USA~GBR~FRA~DEU~IND~BRA"
   ]
  },
  {
   "cell_type": "code",
   "execution_count": null,
   "metadata": {},
   "outputs": [],
   "source": [
    "owid_el_demand = pd.read_csv(\"notebooks/validation/temp_owid/electricity-demand.csv\", index_col=0)"
   ]
  },
  {
   "cell_type": "code",
   "execution_count": null,
   "metadata": {},
   "outputs": [],
   "source": [
    "# Select the year 2021\n",
    "ember_el_demand = owid_el_demand[owid_el_demand[\"Year\"] == 2021]\n",
    "\n",
    "# Get Ember data only\n",
    "ember_el_demand_continent = ember_el_demand.loc[ember_el_demand.index.str.contains(\"Ember\")]\n",
    "\n",
    "# Delete the string \" (Ember)\" contained in the indizes\n",
    "ember_el_demand_continent.index = ember_el_demand_continent.index.str.replace(\" \\(Ember\\)\", \"\", regex=True)\n",
    "\n",
    "# Get country-level data\n",
    "ember_el_demand_country = ember_el_demand.loc[~ember_el_demand.Code.isna()]\n",
    "\n",
    "# Add 2-letter country code\n",
    "ember_el_demand_country[\"ISO2\"] = coco.CountryConverter().pandas_convert(series=ember_el_demand_country.Code, to=\"ISO2\")\n"
   ]
  },
  {
   "cell_type": "code",
   "execution_count": null,
   "metadata": {},
   "outputs": [],
   "source": [
    "# Sum up the rows \"North America\" and \"Latin America and Caribbean\" along the columns \"Electricity demand (TWh)\" to \"America\"\n",
    "ember_el_demand_continent.loc[\"America\"] = ember_el_demand_continent.loc[\"North America\"] + ember_el_demand_continent.loc[\"Latin America and Caribbean\"]\n",
    "# Set the Year of America to 2021\n",
    "ember_el_demand_continent.loc[\"America\", \"Year\"] = 2021"
   ]
  },
  {
   "cell_type": "code",
   "execution_count": null,
   "metadata": {},
   "outputs": [],
   "source": [
    "ember_el_demand_continent = ember_el_demand_continent.loc[['Europe', 'Asia', 'Africa', 'Oceania', 'America']]"
   ]
  },
  {
   "cell_type": "code",
   "execution_count": null,
   "metadata": {},
   "outputs": [],
   "source": [
    "# Create new column continent\n",
    "ember_el_demand_continent.insert(0, \"continent\", ember_el_demand_continent.index)\n",
    "\n",
    "# Sort index alphabetically\n",
    "ember_el_demand_continent.sort_index(inplace=True)"
   ]
  },
  {
   "cell_type": "code",
   "execution_count": null,
   "metadata": {},
   "outputs": [],
   "source": [
    "ember_el_demand_continent.head()"
   ]
  },
  {
   "cell_type": "code",
   "execution_count": null,
   "metadata": {},
   "outputs": [],
   "source": [
    "stats_demand_continent = stats_demand.groupby(\"continent\").sum()/1e6 #convert from MWh to TWh\n",
    "\n",
    "# drop row \"not found\"\n",
    "stats_demand_continent.drop(index=\"not found\", errors=\"ignore\", inplace=True)"
   ]
  },
  {
   "cell_type": "code",
   "execution_count": null,
   "metadata": {},
   "outputs": [],
   "source": [
    "stats_demand_continent.head(10)"
   ]
  },
  {
   "cell_type": "code",
   "execution_count": null,
   "metadata": {},
   "outputs": [],
   "source": [
    "def plot_barplot_demand(stats_demand_continent, ember_el_demand, title=True):\n",
    "    # Plot a barplot to compare the technologies of the two dataframes irena_eleccap and stats_capacities\n",
    "\n",
    "    # Get the index values\n",
    "    index = np.arange(len(stats_demand_continent))\n",
    "    barWidth = 0.3\n",
    "\n",
    "    # Create a barplot\n",
    "    plt.figure(figsize=(6, 3))\n",
    "    plt.bar(index - barWidth/2, stats_demand_continent, color=['g'], alpha=1, edgecolor='white', width=barWidth)\n",
    "    plt.bar(index + barWidth/2, ember_el_demand, color=['g'], alpha=0.3, edgecolor='white', width=barWidth)\n",
    "\n",
    "    # Enhance graph\n",
    "    plt.xticks(index, stats_demand_continent.index)\n",
    "    plt.ylabel(\"Electricity demand in TWh\")\n",
    "    plt.legend([\"PyPSA-Earth 2030\", \"Ember 2021\"], loc='upper left', ncol=1)\n",
    "\n",
    "    plt.grid(axis='y', alpha=0.5)\n",
    "    if title == True:\n",
    "        plt.title(f\"Electricity demand\")\n",
    "\n",
    "    # Show graphic & save it\n",
    "    plt.savefig(f\"notebooks/validation/temp_results/el_demand.pdf\", bbox_inches='tight')\n",
    "    plt.show()\n",
    "    \n",
    "    return\n",
    "\n",
    "plot_barplot_demand(stats_demand_continent[\"demand_add_el\"], ember_el_demand_continent[\"Electricity demand (TWh)\"], title=False)"
   ]
  },
  {
   "cell_type": "code",
   "execution_count": null,
   "metadata": {},
   "outputs": [],
   "source": [
    "stats_demand_continent[\"demand_add_el\"]"
   ]
  },
  {
   "cell_type": "code",
   "execution_count": null,
   "metadata": {},
   "outputs": [],
   "source": [
    "ember_el_demand_continent[\"Electricity demand (TWh)\"]"
   ]
  },
  {
   "attachments": {},
   "cell_type": "markdown",
   "metadata": {},
   "source": [
    "### Country maps demand comparison"
   ]
  },
  {
   "cell_type": "code",
   "execution_count": null,
   "metadata": {},
   "outputs": [],
   "source": [
    "comparison_demand_country = (\n",
    "    stats_demand\n",
    "    .drop(columns=\"continent\")\n",
    "    .reset_index()\n",
    "    .rename(columns={\"index\": \"ISO2\"})\n",
    "    .merge(\n",
    "        ember_el_demand_country.rename(columns={\"Electricity demand (TWh)\": \"demand_iea\"})\n",
    "        .drop(columns=[\"Year\"])\n",
    "        .rename(columns={\"Code\": \"ISO3\"})\n",
    "        .reset_index(drop=True),\n",
    "        how=\"left\",\n",
    "    )\n",
    ")\n",
    "for col in [\"demand_add_el\", \"demand_solve\"]:\n",
    "    comparison_demand_country[col] /= 1e6\n",
    "comparison_demand_country.head()"
   ]
  },
  {
   "cell_type": "code",
   "execution_count": null,
   "metadata": {},
   "outputs": [],
   "source": [
    "# import cartopy.io.shapereader as shpreader\n",
    "\n",
    "# shpfilename = shpreader.natural_earth(resolution='110m',\n",
    "#                                       category='cultural',\n",
    "#                                       name='admin_0_countries')\n",
    "# reader = shpreader.Reader(shpfilename)\n",
    "# countries = reader.records()\n",
    "\n",
    "# geoms_countries = pd.Series({\n",
    "#     country.attributes[\"ADMIN\"]: country.geometry\n",
    "#     for country in reader.records()\n",
    "#     if comparison_demand_country.ISO2.isin([country.attributes[\"ISO_A2\"]]).any()\n",
    "# })\n",
    "# geoms_countries\n",
    "\n",
    "comparison_demand_country[\"geometry\"] = comparison_demand_country.ISO2.map(\n",
    "    lambda country_code: gpd.read_file(\"../pypsa-earth/resources/\" + country_code + \"/shapes/country_shapes.geojson\")[\"geometry\"].iloc[0]\n",
    ")\n",
    "\n",
    "comparison_column = \"demand_add_el\"\n",
    "comparison_base = \"demand_iea\"\n",
    "\n",
    "comparison_demand_country[\"demand_error\"] = (comparison_demand_country[comparison_column] - comparison_demand_country[comparison_base])\n",
    "comparison_demand_country[\"demand_error_pc\"] = 100*comparison_demand_country[\"demand_error\"]/comparison_demand_country[comparison_base]\n",
    "\n",
    "comparison_demand_country[\"absolute_error_pc\"] = comparison_demand_country[\"demand_error_pc\"].abs()\n",
    "\n",
    "comparison_demand_country[\"ratio\"] = (comparison_demand_country[comparison_column] / comparison_demand_country[comparison_base]) * 100\n",
    "comparison_demand_country[\"ratio_abs\"] = comparison_demand_country[\"ratio\"].abs()\n",
    "\n",
    "\n",
    "comparison_demand_country = gpd.GeoDataFrame(comparison_demand_country, geometry=\"geometry\")\n",
    "\n",
    "\n",
    "# comparison_demand_country[\"geometry\"] = [\n",
    "\n",
    "#     for cc_a3 in comparison_demand_country[\"ISO3\"]\n",
    "# ]"
   ]
  },
  {
   "cell_type": "code",
   "execution_count": null,
   "metadata": {},
   "outputs": [],
   "source": [
    "comparison_demand_country[\"demand_error\"].sort_values(ascending=False).plot(use_index=False)"
   ]
  },
  {
   "cell_type": "code",
   "execution_count": null,
   "metadata": {},
   "outputs": [],
   "source": [
    "comparison_demand_country[\"demand_error_pc\"].sort_values(ascending=False).plot(use_index=False)"
   ]
  },
  {
   "cell_type": "code",
   "execution_count": null,
   "metadata": {},
   "outputs": [],
   "source": []
  },
  {
   "cell_type": "code",
   "execution_count": null,
   "metadata": {},
   "outputs": [],
   "source": [
    "plot_col = \"ratio\"\n",
    "k_quantiles = 6\n",
    "\n",
    "min_val = max(1, comparison_demand_country[plot_col].min())\n",
    "max_val = min(300., comparison_demand_country[plot_col].max())\n",
    "\n",
    "def custom_cmap(x):\n",
    "    if x < 50:  # <10% abs eror\n",
    "        return (0, 1, 0)  # green\n",
    "    if x < 80 :  #\n",
    "        return (0, .5, 0)  # dark green\n",
    "    if x < 120:\n",
    "        return (1, 1, 0)  # yellow\n",
    "    if x < 150:\n",
    "        return (1.0, 0.6, 0)  # orange\n",
    "    return (1, 0, 0)  # red\n",
    "\n",
    "comparison_demand_country[\"color\"] = comparison_demand_country[\"ratio\"].map(custom_cmap)\n",
    "ax = comparison_demand_country.plot(\n",
    "    column=plot_col,\n",
    "    cmap=\"viridis\",\n",
    "    scheme=\"UserDefined\",\n",
    "    # k=k_quantiles,\n",
    "    # color=\"color\",\n",
    "    legend=True,\n",
    "    legend_kwds={\n",
    "        \"loc\": 'center left',\n",
    "        \"bbox_to_anchor\": (1, 0.5),\n",
    "    },\n",
    "    figsize=(15, 7),\n",
    "    classification_kwds=dict(bins=[50, 80, 120, 150]),\n",
    "    #norm=matplotlib.colors.LogNorm(vmin=min_val, vmax=max_val),\n",
    ")\n",
    "# ax.legend(loc='center left', bbox_to_anchor=(1, 0.5))\n",
    "# matplotlib.pyplot.tight_layout()\n",
    "# matplotlib.pyplot.show()\n",
    "# Manipulate the legend's label texts\n",
    "# Replace range_text with mid_range as new label texts\n",
    "leg1 = ax.get_legend()\n",
    "labels = [\"\"]\n",
    "for it, eb in enumerate(leg1.get_texts()):\n",
    "    txt = eb.get_text()\n",
    "    low,high = [float(tt) for tt in  txt.split(sep=\",\")]\n",
    "    avg = (low+high)/2        # compute mid-range values\n",
    "    #print(low,high,avg)\n",
    "    if it==0:\n",
    "        eb.set_text(f\"<{high:.0f}%\") # midrange values, 2 deci digits\n",
    "    elif it==len(leg1.get_texts())-1:\n",
    "        eb.set_text(f\">{low:.0f}%\") # midrange values, 2 deci digits\n",
    "    else:\n",
    "        eb.set_text(f\"{low:.0f}-{high:.0f}%\") # midrange values, 2 deci digits\n",
    "    #eb.set_text(f\"\")         # blank-out text\n",
    "\n",
    "ax.set_title(\"Ember 2021 - PyPSA-Earth 2030 electricity demand ratio in %\")\n",
    "ax.set_axis_off()\n",
    "\n",
    "plt.savefig(f\"notebooks/validation/temp_results/world_el_map.pdf\", bbox_inches='tight')"
   ]
  },
  {
   "attachments": {},
   "cell_type": "markdown",
   "metadata": {},
   "source": [
    "IEA"
   ]
  },
  {
   "cell_type": "code",
   "execution_count": null,
   "metadata": {},
   "outputs": [],
   "source": [
    "# Read the data from the excel file\n",
    "iea_web = pd.read_excel(\"notebooks/validation/temp_IEA/World Energy Balances Highlights 2022.xlsx\", sheet_name=\"TimeSeries_1971-2021\", skiprows=1, index_col=0)"
   ]
  },
  {
   "cell_type": "code",
   "execution_count": null,
   "metadata": {},
   "outputs": [],
   "source": [
    "# filter the data, only \"Total final consumption (PJ)\" in the column \"Flow\" and \"Electricity\" in the column \"Product\" is required\n",
    "iea_el_demand = iea_web[(iea_web[\"Flow\"] == \"Total final consumption (PJ)\") & (iea_web[\"Product\"] == \"Electricity\")]\n",
    "\n",
    "# Get electricity demand of 2020 (most recent one available)\n",
    "iea_el_demand = pd.DataFrame(iea_el_demand[2020]) * 0.277777778 #convert PJ to TWh "
   ]
  },
  {
   "cell_type": "code",
   "execution_count": null,
   "metadata": {},
   "outputs": [],
   "source": [
    "# Change index entry \"Non-OECD Asia (including China)\" to \"Non-OECD Asia (including C)\" to avoid regex to match \"China\"\n",
    "iea_el_demand.rename(index={\"Non-OECD Asia (including China)\": \"Non-OECD Asia (including C)\"}, inplace=True)\n",
    "\n",
    "# Change country name to two digit country code and keep the old index where country_name_2_two_digits() returns \"not found\"\n",
    "old_index = iea_el_demand.index.tolist()\n",
    "new_index = iea_el_demand.index.map(country_name_2_two_digits) .tolist()\n",
    "\n",
    "for i in range(len(new_index)):\n",
    "    if new_index[i] == \"not found\":\n",
    "        new_index[i] = old_index[i]\n",
    "\n",
    "iea_el_demand.index = new_index"
   ]
  },
  {
   "cell_type": "code",
   "execution_count": null,
   "metadata": {},
   "outputs": [],
   "source": [
    "iea_el_demand.head()"
   ]
  },
  {
   "attachments": {},
   "cell_type": "markdown",
   "metadata": {},
   "source": [
    "### Networks"
   ]
  },
  {
   "cell_type": "code",
   "execution_count": null,
   "metadata": {},
   "outputs": [],
   "source": [
    "# Select rule \"add_electricity\" and their techs \n",
    "stats_network = stats[\"base_network\"].loc[:, [\"lines_length\", \"lines_capacity\"]]"
   ]
  },
  {
   "cell_type": "code",
   "execution_count": null,
   "metadata": {},
   "outputs": [],
   "source": [
    "# Add continent at the beginning of the dataframe\n",
    "stats_network.insert(0, \"continent\", coco.convert(names = stats_network.index, src = 'ISO2', to = 'continent'))"
   ]
  },
  {
   "cell_type": "code",
   "execution_count": null,
   "metadata": {},
   "outputs": [],
   "source": [
    "stats_network.head()"
   ]
  },
  {
   "attachments": {},
   "cell_type": "markdown",
   "metadata": {},
   "source": [
    "GridKit"
   ]
  },
  {
   "cell_type": "code",
   "execution_count": null,
   "metadata": {},
   "outputs": [],
   "source": [
    "# Get GridKit data https://zenodo.org/record/47317#.ZBw1KvaZM-U. Manually downloaded and extracted.\n",
    "gridkit_europe = pd.read_csv(\"notebooks/validation/temp_gridkit/gridkit_euorpe/gridkit_europe-highvoltage-links.csv\")\n",
    "gridkit_northamerica = pd.read_csv(\"notebooks/validation/temp_gridkit/gridkit_north_america/gridkit_north_america-highvoltage-links.csv\")"
   ]
  },
  {
   "cell_type": "code",
   "execution_count": null,
   "metadata": {},
   "outputs": [],
   "source": [
    "gridkit_europe.head()"
   ]
  },
  {
   "cell_type": "code",
   "execution_count": null,
   "metadata": {},
   "outputs": [],
   "source": [
    "gridkit_europe_length = gridkit_europe[\"length_m\"].sum() / 1e3 # convert from m to km\n",
    "gridkit_northamerica_length = gridkit_northamerica[\"length_m\"].sum() / 1e3 # convert from m to km"
   ]
  },
  {
   "cell_type": "code",
   "execution_count": null,
   "metadata": {},
   "outputs": [],
   "source": [
    "gridkit_europe_length"
   ]
  },
  {
   "cell_type": "code",
   "execution_count": null,
   "metadata": {},
   "outputs": [],
   "source": [
    "gridkit_northamerica_length"
   ]
  },
  {
   "cell_type": "markdown",
   "metadata": {},
   "source": [
    "Data In Brief: https://www.sciencedirect.com/science/article/pii/S2352340921006351#sec0011"
   ]
  },
  {
   "cell_type": "code",
   "execution_count": null,
   "metadata": {},
   "outputs": [],
   "source": [
    "dib_grid = pd.read_excel(\n",
    "    \"notebooks/validation/temp_dib/1-s2.0-S2352340921006351-mmc1.xlsx\",\n",
    "    sheet_name=\"Grids & transformers 2017\",\n",
    "    index_col=0,\n",
    "    header=[0,1],\n",
    "    skiprows=[2],\n",
    ")\n",
    "dib_grid[\"ISO2\"] = coco.convert(names = dib_grid.index, to = 'ISO2')\n",
    "dib_grid.head()"
   ]
  },
  {
   "cell_type": "code",
   "execution_count": null,
   "metadata": {},
   "outputs": [],
   "source": [
    "data_trans = dib_grid.iloc[:, [0, -1]].copy()\n",
    "data_trans.loc[data_trans[\"ISO2\"].map(lambda x: isinstance(x, list)), \"ISO2\"] = \"RS\"\n",
    "data_trans = data_trans[data_trans.ISO2 != \"not found\"]\n",
    "data_trans = data_trans.set_index(\"ISO2\")\n",
    "data_trans = data_trans.iloc[:,0].rename(\"transdata\")\n",
    "# data_trans.to_csv(\"data.csv\")"
   ]
  },
  {
   "cell_type": "code",
   "execution_count": null,
   "metadata": {},
   "outputs": [],
   "source": [
    "stats_length = stats[(\"base_network\", \"lines_length\")].copy().rename(\"pypsa_earth\").to_frame()\n",
    "stats_length[\"dib\"] = data_trans\n",
    "stats_length.loc[\"total\"] = stats_length.sum()\n",
    "stats_length[\"continent\"] = coco.convert(names = stats_length.index, to = 'continent')\n",
    "stats_length[\"ratio\"] = stats_length[\"pypsa_earth\"].div(stats_length[\"dib\"].astype(float))\n",
    "stats_length.loc[~np.isfinite(stats_length[\"ratio\"]), 'ratio'] = np.nan\n",
    "stats_length.to_csv(\"data.csv\")"
   ]
  },
  {
   "cell_type": "code",
   "execution_count": null,
   "metadata": {},
   "outputs": [],
   "source": [
    "stats_by_continent = stats_length.groupby(\"continent\")[[\"pypsa_earth\", \"dib\"]].sum()/1000\n",
    "stats_by_continent[\"ratio\"] = stats_by_continent[\"pypsa_earth\"] / stats_by_continent[\"dib\"]\n",
    "stats_by_continent"
   ]
  },
  {
   "cell_type": "code",
   "execution_count": null,
   "metadata": {},
   "outputs": [],
   "source": [
    "stats_length.sum()"
   ]
  },
  {
   "cell_type": "markdown",
   "metadata": {},
   "source": [
    "## Compare Computational time"
   ]
  },
  {
   "cell_type": "code",
   "execution_count": null,
   "metadata": {},
   "outputs": [],
   "source": []
  },
  {
   "cell_type": "code",
   "execution_count": null,
   "metadata": {},
   "outputs": [],
   "source": [
    "stats"
   ]
  }
 ],
 "metadata": {
  "kernelspec": {
   "display_name": "pypsa-earth",
   "language": "python",
   "name": "python3"
  },
  "language_info": {
   "codemirror_mode": {
    "name": "ipython",
    "version": 3
   },
   "file_extension": ".py",
   "mimetype": "text/x-python",
   "name": "python",
   "nbconvert_exporter": "python",
   "pygments_lexer": "ipython3",
   "version": "3.10.13"
  },
  "orig_nbformat": 4
 },
 "nbformat": 4,
 "nbformat_minor": 2
}
