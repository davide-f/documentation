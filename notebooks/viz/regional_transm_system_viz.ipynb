{
 "cells": [
  {
   "attachments": {},
   "cell_type": "markdown",
   "id": "b5b48cd0-a978-4d98-bef0-af7292123973",
   "metadata": {},
   "source": [
    "# PyPSA-Eur style power system plot"
   ]
  },
  {
   "attachments": {},
   "cell_type": "markdown",
   "id": "178e6cf8-d119-4f7a-8ce6-d3679474e9b7",
   "metadata": {},
   "source": [
    "## Authored by F.Hofmann and D.Fioriti\n",
    "\n",
    "The notebook reproduces the plot like a beautiful scheme of the\n",
    "European Transmission System published in https://arxiv.org/abs/1806.01613.\n",
    "\n",
    "Original version by F.Hofmann, revised by D.Fioriti"
   ]
  },
  {
   "cell_type": "code",
   "execution_count": null,
   "id": "80bdecb2-fa99-46b4-96ed-fd8cb22683ea",
   "metadata": {},
   "outputs": [],
   "source": [
    "#\"\"\"\n",
    "#Created on Mon Sep 19 15:51:31 2022\n",
    "#\n",
    "#@author: fabian and davide-f\n",
    "#\"\"\""
   ]
  },
  {
   "cell_type": "code",
   "execution_count": null,
   "id": "0bd3896b",
   "metadata": {},
   "outputs": [],
   "source": [
    "# change current directory to parent folder\n",
    "import os\n",
    "import sys\n",
    "\n",
    "if not os.path.isdir(\"pypsa-earth\"):\n",
    "    os.chdir(\"../../..\")\n",
    "sys.path.append(os.getcwd()+\"/pypsa-earth/scripts\")"
   ]
  },
  {
   "cell_type": "code",
   "execution_count": null,
   "id": "b6017ad8-476e-4307-b084-bc0f4ce1bb13",
   "metadata": {},
   "outputs": [],
   "source": [
    "import pypsa\n",
    "import matplotlib.pyplot as plt\n",
    "import geopandas as gpd\n",
    "import numpy as np\n",
    "import pandas as pd\n",
    "from pathlib import Path\n",
    "import seaborn as sns\n",
    "from datetime import datetime\n",
    "from cartopy import crs as ccrs\n",
    "from pypsa.plot import add_legend_circles, add_legend_lines, add_legend_patches\n",
    "import math"
   ]
  },
  {
   "attachments": {},
   "cell_type": "markdown",
   "id": "edfaec76-0f01-4a7c-a882-c8acd9dc7e40",
   "metadata": {},
   "source": [
    "Two files are needed:\n",
    "* PyPSA network file (e.g. \"elec.nc\" contains a lot of details and looks perfect)\n",
    "* a country shape file (may by found in \"resources/shapes/country_shapes.geojson\")"
   ]
  },
  {
   "cell_type": "markdown",
   "id": "5d963fda",
   "metadata": {},
   "source": [
    "### Input parameters"
   ]
  },
  {
   "cell_type": "code",
   "execution_count": null,
   "id": "c2932ea6-96b0-4ddb-a05b-6ed531d40964",
   "metadata": {},
   "outputs": [],
   "source": [
    "scenario_name = \"ID\"  # scenario name, default value is \"\" for tutorial or default configuration\n",
    "                    # value shall be non null if a scenario name is specified under the \"run\" tag in the config file\n",
    "\n",
    "path_imgs = \"./documentation/notebooks/viz\"\n",
    "\n",
    "figsize = (8,8)\n",
    "max_node_size = 0.6\n",
    "ref_area_node = 3700675068162.292969  # reference size: ES\n",
    "max_line_size = 5"
   ]
  },
  {
   "attachments": {},
   "cell_type": "markdown",
   "id": "4ab560ce-d669-4959-a71d-37dc7608f05c",
   "metadata": {},
   "source": [
    "### Define utility functions"
   ]
  },
  {
   "cell_type": "code",
   "execution_count": null,
   "id": "4559dd89-aea3-42ac-9fc1-2fe7c81035b6",
   "metadata": {},
   "outputs": [],
   "source": [
    "def get_scenario_network_and_regions(scenario_name):\n",
    "    \"\"\"Load the network and onshore region for a scenario_name\"\"\"\n",
    "    scenario_subpath = scenario_name + \"/\" if scenario_name else \"\"\n",
    "    n = pypsa.Network(\"./pypsa-earth/networks/\" + scenario_subpath + \"elec.nc\")\n",
    "    regions_onshore = gpd.read_file(\"./pypsa-earth/resources/\" + scenario_subpath + \"shapes/country_shapes.geojson\")\n",
    "\n",
    "    return n, regions_onshore\n",
    "\n",
    "def label_objs_legend(values):\n",
    "    \"\"\"Create labels with units in GW or MW depending on the numeric value of values\"\"\"\n",
    "    if min(values) > 1000.:\n",
    "        return [\"{:d} GW\".format(int(v/1000)) for v in values]\n",
    "    elif max(values) >= 250.:\n",
    "        return [\"{:.1f} GW\".format(v/1000) for v in values]\n",
    "    else:\n",
    "        return [\"{:d} MW\".format(round(v)) for v in values]\n",
    "\n",
    "def normalize_obj(values, max_value_output, max_value_input=1):\n",
    "    \"\"\"Normalize an array or pandas series 'values' to have maximum value 'max_value'\"\"\"\n",
    "    if isinstance(values, pd.Series) and not values.empty:\n",
    "        return values / max_value_input * max_value_output\n",
    "    elif isinstance(values, list) and not values:\n",
    "        return values\n",
    "    else:\n",
    "        return [v / max_value_input * max_value_output for v in values]\n",
    "\n",
    "def get_nice_extent(bounds, factor=1.):\n",
    "    \"\"\"Get extent that is nice to see. It ensures the desired size factor width/height\"\"\"\n",
    "    desired_extent = bounds[[0, 2, 1, 3]]\n",
    "    left, right, bottom, top = desired_extent\n",
    "    dx, dy = right - left, top - bottom\n",
    "\n",
    "    area = dx * dy\n",
    "\n",
    "    if dx > dy * factor:\n",
    "        # larger width than expected, then, height shall be increased\n",
    "        dy = dx/factor\n",
    "    else:\n",
    "        # larger height than expected, then, width shall be increased\n",
    "        dx = dy*factor\n",
    "        \n",
    "    xc, yc = (right + left)/2, (top + bottom)/2\n",
    "    \n",
    "    new_extent = [xc - dx/2, xc + dx/2, yc - dy/2, yc + dy/2]\n",
    "\n",
    "    return new_extent, area\n",
    "\n",
    "def get_nice_max_serie(serie, default=1, max_exp=3, min_exp=0):\n",
    "    \"\"\"Get the maximum value of a series rounding to the nearest multiple of 10\"\"\"\n",
    "    max_serie_capped = max(default, serie.max())\n",
    "    exp_max = math.floor(math.log10(max_serie_capped))\n",
    "    nice_exp = max(min(exp_max, max_exp), min_exp)\n",
    "    nice_max_value = round(max_serie_capped, -nice_exp)\n",
    "    return nice_max_value\n",
    "\n",
    "def plot_nice_network(n, regions_onshore, figsize=figsize, max_node_size=max_node_size, ref_area_node=ref_area_node, max_line_size=max_line_size):\n",
    "    \"\"\"Perform a nice plot of network 'n' with onshor regions 'regions_onshore'; optional parameters apply.\"\"\"\n",
    "    def_crs = ccrs.EqualEarth(n.buses.x.mean())\n",
    "    regions_onshore = regions_onshore.to_crs(def_crs)\n",
    "\n",
    "    fig, ax = plt.subplots(figsize=figsize, subplot_kw={\"projection\": def_crs})\n",
    "    gen = n.generators.groupby([\"bus\", \"carrier\"]).p_nom.sum()\n",
    "    sto = n.storage_units.groupby([\"bus\", \"carrier\"]).p_nom.sum()\n",
    "    buses = pd.concat([gen, sto])\n",
    "\n",
    "    new_extent, area = get_nice_extent(regions_onshore.total_bounds)\n",
    "\n",
    "    # Revise size of the node according to the area of the country\n",
    "    tailored_node_size = max(0.01, (area / ref_area_node) * max_node_size)\n",
    "\n",
    "    def normalize_lines(values, max_value=max_line_size, default=1, lines=n.lines.s_nom):\n",
    "        return normalize_obj(values, max_value, max(lines.max(), default))\n",
    "\n",
    "    def normalize_buses(values, max_value=tailored_node_size, default=1, buses=buses.groupby([\"bus\"]).sum()):\n",
    "        return normalize_obj(values, max_value, max(buses.max(), default))\n",
    "\n",
    "    nice_max_p_nom_bus = get_nice_max_serie(buses.groupby([\"bus\"]).sum())\n",
    "    bus_sizes = [nice_max_p_nom_bus/2, nice_max_p_nom_bus]  # in MW\n",
    "\n",
    "    nice_max_p_nom_lines = get_nice_max_serie(n.lines.s_nom)\n",
    "    line_sizes = [nice_max_p_nom_lines/2, nice_max_p_nom_lines]  # in MW\n",
    "\n",
    "    with plt.rc_context({\"patch.linewidth\": 0.}):\n",
    "        n.plot(\n",
    "            bus_sizes=normalize_buses(buses),\n",
    "            bus_alpha=0.7,\n",
    "            line_widths=normalize_lines(n.lines.s_nom),\n",
    "            link_widths=normalize_lines(n.links.p_nom),\n",
    "            line_colors=\"teal\",\n",
    "            ax=ax,\n",
    "            margin=0.2,\n",
    "            color_geomap=None,\n",
    "            projection=def_crs,\n",
    "        )\n",
    "    regions_onshore.plot(\n",
    "        ax=ax,\n",
    "        facecolor=\"whitesmoke\",\n",
    "        edgecolor=\"white\",\n",
    "        aspect=\"equal\",\n",
    "        transform=def_crs, #ccrs.PlateCarree(),\n",
    "        linewidth=0,\n",
    "    )\n",
    "    ax.set_extent(new_extent, crs=def_crs)\n",
    "    legend_kwargs = {\"loc\": \"upper left\", \"frameon\": False}\n",
    "    # circles legend may requite some fine-tuning\n",
    "    legend_circles_dict = {\"bbox_to_anchor\": (1, 0.8), \"labelspacing\": 2.5, **legend_kwargs}\n",
    "    add_legend_circles(\n",
    "        ax,\n",
    "        normalize_buses(bus_sizes),\n",
    "        label_objs_legend(bus_sizes),\n",
    "        legend_kw=legend_circles_dict,    \n",
    "    )\n",
    "    add_legend_lines(\n",
    "        ax,\n",
    "        normalize_lines(line_sizes),\n",
    "        label_objs_legend(line_sizes),\n",
    "        legend_kw={\"bbox_to_anchor\": (1, 1.), **legend_kwargs},\n",
    "    )\n",
    "    add_legend_patches(\n",
    "        ax,\n",
    "        n.carriers.color,\n",
    "        n.carriers.nice_name,\n",
    "        legend_kw={\"bbox_to_anchor\": (1, 0), **legend_kwargs, \"loc\":\"lower left\"},\n",
    "    )\n",
    "    # fig.tight_layout()\n",
    "\n",
    "    return fig\n"
   ]
  },
  {
   "cell_type": "markdown",
   "id": "54be5d18",
   "metadata": {},
   "source": [
    "### Plot the desired network\n",
    "Plot the desired network specified by the scenario_name specified above"
   ]
  },
  {
   "cell_type": "code",
   "execution_count": null,
   "id": "1efe11eb",
   "metadata": {},
   "outputs": [],
   "source": [
    "n, regions_onshore = get_scenario_network_and_regions(scenario_name)\n",
    "\n",
    "fig = plot_nice_network(\n",
    "    n,\n",
    "    regions_onshore,\n",
    "    figsize=figsize,\n",
    "    max_node_size=max_node_size,\n",
    "    max_line_size=max_line_size,\n",
    ")"
   ]
  },
  {
   "cell_type": "markdown",
   "id": "683fff6c",
   "metadata": {},
   "source": [
    "#### Code to execute the plot for all scenarios executed in PyPSA-Earth\n",
    "\n",
    "This code runs over all elec networks in 'pypsa-earth/networks/*/elec.nc' and plots the corresponding network.\n",
    "This code is commented by default."
   ]
  },
  {
   "cell_type": "code",
   "execution_count": null,
   "id": "c1e0136c",
   "metadata": {},
   "outputs": [],
   "source": [
    "# for elec_path in Path(\"./pypsa-earth/networks/\").glob(\"*/elec.nc\"):\n",
    "#     scenario_name = elec_path.parent.name\n",
    "\n",
    "#     n, regions_onshore = get_scenario_network_and_regions(scenario_name)\n",
    "    \n",
    "\n",
    "#     fig = plot_nice_network(\n",
    "#         n,\n",
    "#         regions_onshore,\n",
    "#         figsize=figsize,\n",
    "#         max_node_size=max_node_size,\n",
    "#         max_line_size=max_line_size,\n",
    "#     )\n",
    "#     fig.savefig(path_imgs + \"/brownfield_capacities_\" + scenario_name + \".png\", bbox_inches=\"tight\")\n",
    "#     plt.close()"
   ]
  }
 ],
 "metadata": {
  "kernelspec": {
   "display_name": "Python 3 (ipykernel)",
   "language": "python",
   "name": "python3"
  },
  "language_info": {
   "codemirror_mode": {
    "name": "ipython",
    "version": 3
   },
   "file_extension": ".py",
   "mimetype": "text/x-python",
   "name": "python",
   "nbconvert_exporter": "python",
   "pygments_lexer": "ipython3",
   "version": "3.8.16"
  }
 },
 "nbformat": 4,
 "nbformat_minor": 5
}
